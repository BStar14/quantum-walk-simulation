{
 "cells": [
  {
   "cell_type": "code",
   "execution_count": 1,
   "id": "403adeae",
   "metadata": {},
   "outputs": [],
   "source": [
    "import numpy as np\n",
    "import matplotlib.pyplot as plt\n",
    "from qw.walksystem import WalkSystem\n",
    "from qw.analysis import transform_counts_list"
   ]
  },
  {
   "cell_type": "code",
   "execution_count": 2,
   "id": "ab4c4c02",
   "metadata": {},
   "outputs": [],
   "source": [
    "folder = 'sim'\n",
    "sys = 'qasm'\n",
    "network = 'dsg'\n",
    "walktype = '3tqw'\n",
    "encoding = 'bin'\n",
    "order = 2\n",
    "layers = 10\n",
    "ws = WalkSystem(folder, sys, network, walktype=walktype, encoding=encoding, order=order, layers=layers)\n",
    "counts_list = ws.read_counts_list()\n",
    "counts_list = transform_counts_list(counts_list)"
   ]
  },
  {
   "cell_type": "code",
   "execution_count": 3,
   "id": "8f8f81c7",
   "metadata": {},
   "outputs": [],
   "source": [
    "import numpy as np\n",
    "\n",
    "def DSG_Hamiltonian(order: int=2, gamma: float=1.) -> np.ndarray:\n",
    "    \n",
    "    size = 3**order\n",
    "    A = np.zeros((size, size))\n",
    "    \n",
    "    for i in [n+1 for n in range(order)]:\n",
    "        for j in range(int(size/(3**i))):\n",
    "            a1 = np.floor((j*9 + 0*3 + 1) * 3**(i-2)).astype(int)\n",
    "            a2 = np.floor((j*9 + 1*3 + 2) * 3**(i-2)).astype(int)\n",
    "            b1 = np.floor((j*9 + 1*3 + 1) * 3**(i-2)).astype(int)\n",
    "            b2 = np.floor((j*9 + 2*3 + 2) * 3**(i-2)).astype(int)\n",
    "            c1 = np.floor((j*9 + 2*3 + 1) * 3**(i-2)).astype(int)\n",
    "            c2 = np.floor((j*9 + 0*3 + 2) * 3**(i-2)).astype(int)\n",
    "            A[a1, a2] = 1\n",
    "            A[a2, a1] = 1\n",
    "            A[b1, b2] = 1\n",
    "            A[b2, b1] = 1\n",
    "            A[c1, c2] = 1\n",
    "            A[c2, c1] = 1\n",
    "    \n",
    "    for i in range(size):\n",
    "        A[i, i] = -A.sum(axis=1)[i]\n",
    "    \n",
    "    return -gamma*A"
   ]
  },
  {
   "cell_type": "code",
   "execution_count": 4,
   "id": "5248a21e",
   "metadata": {},
   "outputs": [],
   "source": [
    "from matplotlib.colors import LinearSegmentedColormap\n",
    "\n",
    "cdict = {'red':   ((0.00, 0.00, 0.00), \n",
    "                   (0.20, 0.95, 0.95),\n",
    "                   (0.40, 0.95, 0.95),\n",
    "                   (0.60, 0.95, 0.95),\n",
    "                   (0.80, 0.95, 0.95),\n",
    "                   (1.00, 0.00, 0.00)),\n",
    "\n",
    "         'green': ((0.00, 0.00, 0.00), \n",
    "                   (0.20, 0.00, 0.00),\n",
    "                   (0.40, 0.50, 0.50),\n",
    "                   (0.60, 0.95, 0.95),\n",
    "                   (0.80, 0.95, 0.95),\n",
    "                   (1.00, 0.00, 0.00)),\n",
    "\n",
    "         'blue':  ((0.00, 0.00, 0.00), \n",
    "                   (0.20, 0.00, 0.00),\n",
    "                   (0.40, 0.30, 0.30),\n",
    "                   (0.60, 0.50, 0.50),\n",
    "                   (0.80, 0.95, 0.95),\n",
    "                   (1.00, 0.95, 0.95))\n",
    "          }\n",
    "\n",
    "cmap = LinearSegmentedColormap('star', cdict)"
   ]
  },
  {
   "cell_type": "code",
   "execution_count": 5,
   "id": "f6ea8264",
   "metadata": {},
   "outputs": [],
   "source": [
    "import networkx as nx\n",
    "import matplotlib.pyplot as plt\n",
    "\n",
    "def draw_distribution(G, pos, node_size=100, node_color=\"#1f78b4\", alpha=1., mapper=None, \n",
    "                      cmap=None, vmin=None, vmax=None, ax=None):\n",
    "    \n",
    "    if ax is None:\n",
    "        ax = plt.gca()\n",
    "    \n",
    "    nodes = nx.draw_networkx_nodes(G, pos, node_size=node_size, node_color=node_color, alpha=alpha, \n",
    "                                   cmap=cmap, vmin=vmin, vmax=vmax, ax=ax)\n",
    "    edges = nx.draw_networkx_edges(G, pos, ax=ax)\n",
    "    cb = plt.colorbar(mapper, ax=ax, extend='min')\n",
    "    cb.ax.tick_params(labelsize=12)\n",
    "    ax.axis('off')\n",
    "    \n",
    "    return nodes"
   ]
  },
  {
   "cell_type": "code",
   "execution_count": 6,
   "id": "a8806c10",
   "metadata": {},
   "outputs": [],
   "source": [
    "from matplotlib.colors import LogNorm\n",
    "from matplotlib.cm import ScalarMappable\n",
    "\n",
    "G = nx.from_numpy_array(abs(DSG_Hamiltonian(order, 1)))\n",
    "G.remove_edges_from(nx.selfloop_edges(G))\n",
    "pos = nx.kamada_kawai_layout(G)\n",
    "\n",
    "# vmin = 10**(1-order)\n",
    "vmin = .5*10**(1-order)\n",
    "vmax = 1.\n",
    "mapper = ScalarMappable(norm=LogNorm(vmin=vmin, vmax=vmax), cmap=cmap)"
   ]
  },
  {
   "cell_type": "code",
   "execution_count": 7,
   "id": "d39ec0ec",
   "metadata": {},
   "outputs": [
    {
     "data": {
      "image/png": "[encoded data removed]",
      "text/plain": [
       "<Figure size 576x432 with 2 Axes>"
      ]
     },
     "metadata": {},
     "output_type": "display_data"
    }
   ],
   "source": [
    "choose = 49\n",
    "dt = 0.01\n",
    "\n",
    "dpi = 72\n",
    "fig, ax = plt.subplots(figsize=(8, 6), dpi=dpi)\n",
    "\n",
    "node_color = counts_list[choose]\n",
    "time_template = 't = %.2fs'\n",
    "\n",
    "nodes = draw_distribution(G, pos, ax=ax, node_color=mapper.to_rgba(node_color), mapper=mapper)\n",
    "time_text = ax.text(-1, 1, time_template % ((choose+1)*dt), fontsize=18)\n",
    "\n",
    "plt.show()"
   ]
  },
  {
   "cell_type": "code",
   "execution_count": 47,
   "id": "39a3d936",
   "metadata": {},
   "outputs": [
    {
     "name": "stdout",
     "output_type": "stream",
     "text": [
      "Saving frame 300 of 300 complete!\n"
     ]
    }
   ],
   "source": [
    "from matplotlib import animation\n",
    "\n",
    "dpi = 300\n",
    "steps = 300\n",
    "dt = 0.01\n",
    "playtime = 15\n",
    "interval = int(playtime*1000/steps)\n",
    "fps = int(steps/playtime)\n",
    "fig, ax = plt.subplots(figsize=(8, 6), dpi=dpi)\n",
    "\n",
    "node_color = counts_list[0]\n",
    "time_template = 't = %.2fs'\n",
    "\n",
    "nodes = draw_distribution(G, pos, ax=ax, node_color=mapper.to_rgba(node_color), mapper=mapper)\n",
    "time_text = ax.text(-1, 1, time_template % 0., fontsize=18)\n",
    "\n",
    "def animate(i):\n",
    "    global nodes, time_text\n",
    "    nodes.remove()\n",
    "    time_text.remove()\n",
    "    node_color = counts_list[i]\n",
    "    nodes = nx.draw_networkx_nodes(G, pos, node_size=100, node_color=mapper.to_rgba(node_color), alpha=1.)\n",
    "    time_text = ax.text(-1, 1, time_template % ((i+1)*dt), fontsize=18)\n",
    "    return 0\n",
    "\n",
    "ani = animation.FuncAnimation(fig, animate, frames=steps, interval=interval)\n",
    "\n",
    "def progress_callback(i, n):\n",
    "    print(f'Saving frame {i} of {n}', end='\\r')\n",
    "    return 0\n",
    "\n",
    "writer = animation.writers['ffmpeg'](fps=fps)\n",
    "path = f'videos/{ws.name}_animation.mp4'\n",
    "ani.save(path, writer=writer, dpi=dpi, progress_callback=progress_callback)\n",
    "del ani\n",
    "plt.close(fig)\n",
    "print(f'Saving frame {steps} of {steps} complete!')"
   ]
  },
  {
   "cell_type": "code",
   "execution_count": null,
   "id": "8360b49d",
   "metadata": {},
   "outputs": [],
   "source": []
  }
 ],
 "metadata": {
  "kernelspec": {
   "display_name": "Python 3 (ipykernel)",
   "language": "python",
   "name": "python3"
  },
  "language_info": {
   "codemirror_mode": {
    "name": "ipython",
    "version": 3
   },
   "file_extension": ".py",
   "mimetype": "text/x-python",
   "name": "python",
   "nbconvert_exporter": "python",
   "pygments_lexer": "ipython3",
   "version": "3.10.10"
  }
 },
 "nbformat": 4,
 "nbformat_minor": 5
}
