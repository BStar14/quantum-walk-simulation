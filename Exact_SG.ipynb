{
 "cells": [
  {
   "cell_type": "code",
   "execution_count": 1,
   "id": "5da9e6ee",
   "metadata": {},
   "outputs": [],
   "source": [
    "import numpy as np\n",
    "\n",
    "def SG_Hamiltonian(order: int=3, gamma: float=1.) -> np.ndarray:\n",
    "    \n",
    "    if order==1:\n",
    "        A = np.array([[2, -1, -1, 0, 0, 0], \n",
    "                      [-1, 4, -1, -1, -1, 0], \n",
    "                      [-1, -1, 4, 0, -1, -1], \n",
    "                      [0, -1, 0, 2, -1, 0], \n",
    "                      [0, -1, -1, -1, 4, -1], \n",
    "                      [0, 0, -1, 0, -1, 2]])\n",
    "        return gamma*A\n",
    "        \n",
    "    else:\n",
    "        B = SG_Hamiltonian(order=order-1, gamma=1)\n",
    "        sizeb = len(B)\n",
    "        size = int(3*sizeb-3)\n",
    "        A = np.zeros((size, size))\n",
    "        B1 = np.pad(B, [(0, size-sizeb), (0, size-sizeb)], mode='constant')\n",
    "        A += B1\n",
    "        \n",
    "        paste = sizeb-1\n",
    "        target = int((3**order+2*order-1)/4)\n",
    "        B2 = np.pad(B, [(paste, paste-1), (paste, paste-1)], mode='constant')\n",
    "        B2[[paste, target], :] = B2[[target, paste], :]\n",
    "        B2[:, [paste, target]] = B2[:, [target, paste]]\n",
    "        A += B2\n",
    "        \n",
    "        paste = 2*sizeb-3\n",
    "        target = sizeb-1\n",
    "        paste2 = paste + int((3**order+2*order-1)/4)\n",
    "        target2 = paste+1\n",
    "        B3 = np.pad(B, [(paste, 0), (paste, 0)], mode='constant')\n",
    "        B3[[paste, target], :] = B3[[target, paste], :]\n",
    "        B3[:, [paste, target]] = B3[:, [target, paste]]\n",
    "        for i in range(paste2, target2, -1):\n",
    "            B3[[i, i-1], :] = B3[[i-1, i], :]\n",
    "            B3[:, [i, i-1]] = B3[:, [i-1, i]]\n",
    "        A += B3\n",
    "        \n",
    "        return gamma*A"
   ]
  },
  {
   "cell_type": "code",
   "execution_count": 2,
   "id": "747b1c00",
   "metadata": {},
   "outputs": [],
   "source": [
    "import numpy as np\n",
    "\n",
    "def SG_MSD_weight(order: int=3) -> np.ndarray:\n",
    "    \n",
    "    size = int(1.5 * (3**order + 1))\n",
    "    weight = np.array([0,1,1,4,3,4,\n",
    "                       9,7,16,13,12,\n",
    "                       7,9,13,16,\n",
    "                       25,21,36,31,28,\n",
    "                       49,43,64,57,52,\n",
    "                       39,37,49,48,\n",
    "                       21,25,28,31,36,\n",
    "                       37,39,49,52,\n",
    "                       43,49,57,64,\n",
    "                       81,73,100,91,82,\n",
    "                       121,111,144,133,122,\n",
    "                       101,91,111,100,\n",
    "                       169,157,196,183,170,\n",
    "                       225,211,256,241,226,\n",
    "                       197,183,211,196,\n",
    "                       121,109,144,131,118,\n",
    "                       169,155,181,166,\n",
    "                       141,127,151,136,\n",
    "                       73,81,82,91,100,\n",
    "                       91,101,100,111,122,\n",
    "                       111,121,133,144,\n",
    "                       109,121,118,131,144,\n",
    "                       127,141,151,166,\n",
    "                       155,169,181,196,\n",
    "                       157,169,170,183,196,\n",
    "                       183,197,211,226,\n",
    "                       211,225,241,256])\n",
    "    \n",
    "    return weight[:size]"
   ]
  },
  {
   "cell_type": "code",
   "execution_count": 3,
   "id": "926677e9",
   "metadata": {},
   "outputs": [],
   "source": [
    "from matplotlib.colors import LinearSegmentedColormap\n",
    "\n",
    "cdict = {'red':   ((0.00, 0.00, 0.00), \n",
    "                   (0.20, 0.95, 0.95),\n",
    "                   (0.40, 0.95, 0.95),\n",
    "                   (0.60, 0.95, 0.95),\n",
    "                   (0.80, 0.95, 0.95),\n",
    "                   (1.00, 0.00, 0.00)),\n",
    "\n",
    "         'green': ((0.00, 0.00, 0.00), \n",
    "                   (0.20, 0.00, 0.00),\n",
    "                   (0.40, 0.50, 0.50),\n",
    "                   (0.60, 0.95, 0.95),\n",
    "                   (0.80, 0.95, 0.95),\n",
    "                   (1.00, 0.00, 0.00)),\n",
    "\n",
    "         'blue':  ((0.00, 0.00, 0.00), \n",
    "                   (0.20, 0.00, 0.00),\n",
    "                   (0.40, 0.30, 0.30),\n",
    "                   (0.60, 0.50, 0.50),\n",
    "                   (0.80, 0.95, 0.95),\n",
    "                   (1.00, 0.95, 0.95))\n",
    "          }\n",
    "\n",
    "cmap = LinearSegmentedColormap('star', cdict)"
   ]
  },
  {
   "cell_type": "code",
   "execution_count": 4,
   "id": "a20dadd3",
   "metadata": {},
   "outputs": [],
   "source": [
    "import networkx as nx\n",
    "import matplotlib.pyplot as plt\n",
    "\n",
    "def draw_distribution(G, pos, node_size=100, node_color=\"#1f78b4\", mapper=None, cmap=None, vmin=None, vmax=None, ax=None):\n",
    "    \n",
    "    if ax is None:\n",
    "        ax = plt.gca()\n",
    "    \n",
    "    nodes = nx.draw_networkx_nodes(G, pos, node_size=node_size, node_color=node_color, cmap=cmap, vmin=vmin, vmax=vmax, ax=ax)\n",
    "    edges = nx.draw_networkx_edges(G, pos, ax=ax)\n",
    "    cb = plt.colorbar(mapper, ax=ax, extend='min')\n",
    "    cb.ax.tick_params(labelsize=12)\n",
    "    ax.axis('off')\n",
    "    \n",
    "    return nodes"
   ]
  },
  {
   "cell_type": "code",
   "execution_count": 5,
   "id": "657c6da8",
   "metadata": {},
   "outputs": [],
   "source": [
    "import numpy as np\n",
    "import matplotlib.pyplot as plt\n",
    "from scipy.linalg import expm"
   ]
  },
  {
   "cell_type": "code",
   "execution_count": 6,
   "id": "8f03ddbc",
   "metadata": {},
   "outputs": [],
   "source": [
    "def qw(Hamiltonian: np.ndarray, t: float=1.) -> np.ndarray:\n",
    "    \n",
    "    H = Hamiltonian\n",
    "    size = len(H)\n",
    "    psi0 = np.zeros(size)\n",
    "    psi0[0] = 1\n",
    "\n",
    "    return abs(np.matmul(expm(-1j*np.pi*H*t), psi0))**2"
   ]
  },
  {
   "cell_type": "code",
   "execution_count": 7,
   "id": "69f2b848",
   "metadata": {},
   "outputs": [],
   "source": [
    "order = 2\n",
    "steps = 1500\n",
    "dt = .01\n",
    "t = np.linspace(dt, steps*dt, steps)\n",
    "gamma = 1.\n",
    "\n",
    "folder = 'data/exact/'\n",
    "video_folder = 'videos/'\n",
    "name = f'exact_sg_qw_ex_o{order}_{steps*dt:.1f}s_{steps:d}vly'"
   ]
  },
  {
   "cell_type": "code",
   "execution_count": 8,
   "id": "962315ea",
   "metadata": {},
   "outputs": [
    {
     "name": "stdout",
     "output_type": "stream",
     "text": [
      "100% complete!\n"
     ]
    }
   ],
   "source": [
    "counts_list = np.zeros_like(t, dtype=object)\n",
    "per10 = steps/10\n",
    "\n",
    "for i in range(steps):\n",
    "    counts_list[i] = qw(SG_Hamiltonian(order, gamma), t[i])\n",
    "    if i%per10==0:\n",
    "        print(f'{int(i/per10)*10}%', end='\\r')\n",
    "print(f'{100}% complete!')"
   ]
  },
  {
   "cell_type": "code",
   "execution_count": 9,
   "id": "5901568e",
   "metadata": {},
   "outputs": [],
   "source": [
    "msd_list = np.zeros_like(t, dtype=object)\n",
    "msd_weight = SG_MSD_weight(order)\n",
    "\n",
    "for i in range(steps):\n",
    "    msd_list[i] = (counts_list[i]*msd_weight).sum()"
   ]
  },
  {
   "cell_type": "code",
   "execution_count": 10,
   "id": "4daa15df",
   "metadata": {},
   "outputs": [
    {
     "data": {
      "image/png": "[encoded data removed]",
      "text/plain": [
       "<Figure size 576x432 with 1 Axes>"
      ]
     },
     "metadata": {
      "needs_background": "light"
     },
     "output_type": "display_data"
    }
   ],
   "source": [
    "fig = plt.figure(figsize=(8, 6))\n",
    "plt.plot(t[10:], msd_list[10:])\n",
    "# plt.xscale(\"log\")\n",
    "# plt.yscale(\"log\")\n",
    "plt.show()"
   ]
  },
  {
   "cell_type": "code",
   "execution_count": 11,
   "id": "85c6fe88",
   "metadata": {},
   "outputs": [],
   "source": [
    "from matplotlib.colors import LogNorm\n",
    "from matplotlib.cm import ScalarMappable\n",
    "\n",
    "G = nx.from_numpy_array(abs(SG_Hamiltonian(order, gamma)))\n",
    "G.remove_edges_from(nx.selfloop_edges(G))\n",
    "pos = nx.kamada_kawai_layout(G)\n",
    "\n",
    "vmin = 10**(1-order)\n",
    "vmax = 1.\n",
    "mapper = ScalarMappable(norm=LogNorm(vmin=vmin, vmax=vmax), cmap=cmap)"
   ]
  },
  {
   "cell_type": "code",
   "execution_count": 12,
   "id": "8e9383ba",
   "metadata": {},
   "outputs": [
    {
     "data": {
      "image/png": "[encoded data removed]",
      "text/plain": [
       "<Figure size 576x432 with 2 Axes>"
      ]
     },
     "metadata": {
      "needs_background": "light"
     },
     "output_type": "display_data"
    }
   ],
   "source": [
    "choose = 800\n",
    "\n",
    "dpi = 72\n",
    "fig, ax = plt.subplots(figsize=(8, 6), dpi=dpi)\n",
    "\n",
    "node_color = counts_list[choose]\n",
    "time_template = 't = %.2fs'\n",
    "\n",
    "nodes = draw_distribution(G, pos, ax=ax, node_color=mapper.to_rgba(node_color), mapper=mapper)\n",
    "time_text = ax.text(-1, 1, time_template % ((choose+1)*dt), fontsize=18)\n",
    "\n",
    "plt.show()"
   ]
  },
  {
   "cell_type": "code",
   "execution_count": 10,
   "id": "2f13482f",
   "metadata": {},
   "outputs": [],
   "source": [
    "import csv\n",
    "\n",
    "with open(f'{folder}{name}_msd_list.csv','w') as file :\n",
    "    write = csv.writer(file)\n",
    "    write.writerow(msd_list)"
   ]
  },
  {
   "cell_type": "code",
   "execution_count": 11,
   "id": "c0ee14a8",
   "metadata": {},
   "outputs": [],
   "source": [
    "import pickle\n",
    "\n",
    "with open(f'{folder}{name}_counts_list.pkl','wb') as file :\n",
    "    pickle.dump(counts_list, file)"
   ]
  },
  {
   "cell_type": "code",
   "execution_count": 12,
   "id": "46dbfca3",
   "metadata": {},
   "outputs": [],
   "source": [
    "from matplotlib import animation\n",
    "\n",
    "dpi = 300\n",
    "fig, ax = plt.subplots(figsize=(8, 6), dpi=dpi)\n",
    "\n",
    "node_color = counts_list[0]\n",
    "time_template = 't = %.2fs'\n",
    "\n",
    "nodes = draw_distribution(G, pos, ax=ax, node_color=mapper.to_rgba(node_color), mapper=mapper)\n",
    "time_text = ax.text(-1, 1, time_template % 0., fontsize=18)\n",
    "\n",
    "def animate(i):\n",
    "    global nodes, time_text\n",
    "    nodes.remove()\n",
    "    time_text.remove()\n",
    "    node_color = counts_list[i]\n",
    "    nodes = nx.draw_networkx_nodes(G, pos, node_size=100, node_color=mapper.to_rgba(node_color))\n",
    "    time_text = ax.text(-1, 1, time_template % ((i+1)*dt), fontsize=18)\n",
    "    return 0\n",
    "\n",
    "ani = animation.FuncAnimation(fig, animate, frames=steps, interval=10)\n",
    "\n",
    "def progress_callback(i, n):\n",
    "    print(f'Saving frame {i} of {n}', end='\\r')\n",
    "    return 0\n",
    "\n",
    "writer = animation.writers['ffmpeg'](fps=100)\n",
    "ani.save(f'{video_folder}{name}_animation.mp4', writer=writer, dpi=dpi, progress_callback=progress_callback)\n",
    "del ani\n",
    "plt.close(fig)\n",
    "print(f'Saving frame {steps} of {steps} complete!')"
   ]
  },
  {
   "cell_type": "code",
   "execution_count": 6,
   "id": "e0ab3319",
   "metadata": {},
   "outputs": [],
   "source": [
    "def rw(Hamiltonian: np.ndarray, t: float=1.) -> np.ndarray:\n",
    "    \n",
    "    H = Hamiltonian\n",
    "    size = len(H)\n",
    "    psi0 = np.zeros(size)\n",
    "    psi0[0] = 1\n",
    "\n",
    "    return np.matmul(expm(-np.pi*H*t), psi0)"
   ]
  },
  {
   "cell_type": "code",
   "execution_count": 7,
   "id": "82c0f27d",
   "metadata": {},
   "outputs": [],
   "source": [
    "order = 2\n",
    "steps = 1500\n",
    "dt = .01\n",
    "t = np.linspace(dt, steps*dt, steps)\n",
    "gamma = 1.\n",
    "\n",
    "folder = 'data/exact/'\n",
    "video_folder = 'videos/'\n",
    "name = f'exact_sg_rw_ex_o{order}_{steps*dt:.1f}s_{steps:d}vly'"
   ]
  },
  {
   "cell_type": "code",
   "execution_count": 8,
   "id": "24ee2109",
   "metadata": {},
   "outputs": [
    {
     "name": "stdout",
     "output_type": "stream",
     "text": [
      "100% complete!\n"
     ]
    }
   ],
   "source": [
    "counts_list = np.zeros_like(t, dtype=object)\n",
    "per10 = steps/10\n",
    "\n",
    "for i in range(steps):\n",
    "    counts_list[i] = rw(SG_Hamiltonian(order, gamma), t[i])\n",
    "    if i%per10==0:\n",
    "        print(f'{int(i/per10)*10}%', end='\\r')\n",
    "print(f'{100}% complete!')"
   ]
  },
  {
   "cell_type": "code",
   "execution_count": 9,
   "id": "8ea2bf83",
   "metadata": {},
   "outputs": [],
   "source": [
    "msd_list = np.zeros_like(t, dtype=object)\n",
    "msd_weight = SG_MSD_weight(order)\n",
    "\n",
    "for i in range(steps):\n",
    "    msd_list[i] = (counts_list[i]*msd_weight).sum()"
   ]
  },
  {
   "cell_type": "code",
   "execution_count": 10,
   "id": "49e489b9",
   "metadata": {},
   "outputs": [
    {
     "data": {
      "image/png": "[encoded data removed]",
      "text/plain": [
       "<Figure size 576x432 with 1 Axes>"
      ]
     },
     "metadata": {
      "needs_background": "light"
     },
     "output_type": "display_data"
    }
   ],
   "source": [
    "fig = plt.figure(figsize=(8, 6))\n",
    "plt.plot(t[10:], msd_list[10:])\n",
    "# plt.xscale(\"log\")\n",
    "# plt.yscale(\"log\")\n",
    "plt.show()"
   ]
  },
  {
   "cell_type": "code",
   "execution_count": 11,
   "id": "a3e27427",
   "metadata": {},
   "outputs": [],
   "source": [
    "from matplotlib.colors import LogNorm\n",
    "from matplotlib.cm import ScalarMappable\n",
    "\n",
    "G = nx.from_numpy_array(abs(SG_Hamiltonian(order, gamma)))\n",
    "G.remove_edges_from(nx.selfloop_edges(G))\n",
    "pos = nx.kamada_kawai_layout(G)\n",
    "\n",
    "vmin = 10**(1-order)\n",
    "vmax = 1.\n",
    "mapper = ScalarMappable(norm=LogNorm(vmin=vmin, vmax=vmax), cmap=cmap)"
   ]
  },
  {
   "cell_type": "code",
   "execution_count": 12,
   "id": "7493e03f",
   "metadata": {},
   "outputs": [
    {
     "data": {
      "image/png": "[encoded data removed]",
      "text/plain": [
       "<Figure size 576x432 with 2 Axes>"
      ]
     },
     "metadata": {
      "needs_background": "light"
     },
     "output_type": "display_data"
    }
   ],
   "source": [
    "choose = 800\n",
    "\n",
    "dpi = 72\n",
    "fig, ax = plt.subplots(figsize=(8, 6), dpi=dpi)\n",
    "\n",
    "node_color = counts_list[choose]\n",
    "time_template = 't = %.2fs'\n",
    "\n",
    "nodes = draw_distribution(G, pos, ax=ax, node_color=mapper.to_rgba(node_color), mapper=mapper)\n",
    "time_text = ax.text(-1, 1, time_template % ((choose+1)*dt), fontsize=18)\n",
    "\n",
    "plt.show()"
   ]
  },
  {
   "cell_type": "code",
   "execution_count": 11,
   "id": "c52502eb",
   "metadata": {},
   "outputs": [],
   "source": [
    "import csv\n",
    "\n",
    "with open(f'{folder}{name}_msd_list.csv','w') as file :\n",
    "    write = csv.writer(file)\n",
    "    write.writerow(msd_list)"
   ]
  },
  {
   "cell_type": "code",
   "execution_count": 12,
   "id": "6dd43543",
   "metadata": {},
   "outputs": [],
   "source": [
    "import pickle\n",
    "\n",
    "with open(f'{folder}{name}_counts_list.pkl','wb') as file :\n",
    "    pickle.dump(counts_list, file)"
   ]
  },
  {
   "cell_type": "code",
   "execution_count": 12,
   "id": "497d8795",
   "metadata": {},
   "outputs": [],
   "source": [
    "from matplotlib import animation\n",
    "\n",
    "dpi = 300\n",
    "fig, ax = plt.subplots(figsize=(8, 6), dpi=dpi)\n",
    "\n",
    "node_color = counts_list[0]\n",
    "time_template = 't = %.2fs'\n",
    "\n",
    "nodes = draw_distribution(G, pos, ax=ax, node_color=mapper.to_rgba(node_color), mapper=mapper)\n",
    "time_text = ax.text(-1, 1, time_template % 0., fontsize=18)\n",
    "\n",
    "def animate(i):\n",
    "    global nodes, time_text\n",
    "    nodes.remove()\n",
    "    time_text.remove()\n",
    "    node_color = counts_list[i]\n",
    "    nodes = nx.draw_networkx_nodes(G, pos, node_size=100, node_color=mapper.to_rgba(node_color))\n",
    "    time_text = ax.text(-1, 1, time_template % ((i+1)*dt), fontsize=18)\n",
    "    return 0\n",
    "\n",
    "ani = animation.FuncAnimation(fig, animate, frames=steps, interval=10)\n",
    "\n",
    "def progress_callback(i, n):\n",
    "    print(f'Saving frame {i} of {n}', end='\\r')\n",
    "    return 0\n",
    "\n",
    "writer = animation.writers['ffmpeg'](fps=100)\n",
    "ani.save(f'{video_folder}{name}_animation.mp4', writer=writer, dpi=dpi, progress_callback=progress_callback)\n",
    "del ani\n",
    "plt.close(fig)\n",
    "print(f'Saving frame {steps} of {steps} complete!')"
   ]
  },
  {
   "cell_type": "code",
   "execution_count": null,
   "id": "7554a3d7",
   "metadata": {},
   "outputs": [],
   "source": []
  }
 ],
 "metadata": {
  "kernelspec": {
   "display_name": "Python 3 (ipykernel)",
   "language": "python",
   "name": "python3"
  },
  "language_info": {
   "codemirror_mode": {
    "name": "ipython",
    "version": 3
   },
   "file_extension": ".py",
   "mimetype": "text/x-python",
   "name": "python",
   "nbconvert_exporter": "python",
   "pygments_lexer": "ipython3",
   "version": "3.10.10"
  }
 },
 "nbformat": 4,
 "nbformat_minor": 5
}
