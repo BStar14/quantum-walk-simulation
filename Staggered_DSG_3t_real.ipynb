{
 "cells": [
  {
   "cell_type": "code",
   "execution_count": 1,
   "id": "1502ca5e-bb3b-427b-b5f7-d39367a78fc2",
   "metadata": {},
   "outputs": [],
   "source": [
    "# Importing Qiskit and IonQ accounts\n",
    "from qiskit import IBMQ\n",
    "from qiskit_ionq import IonQProvider\n",
    "\n",
    "# Loading your IBM Quantum and IonQ accounts\n",
    "# IBMQ.save_account('token')\n",
    "IBMQ.load_account()\n",
    "ibmq_provider = IBMQ.get_provider('ibm-q')\n",
    "# ibmq_provider = IBMQ.get_provider('ibm-q-skku','yonsei-uni','yu-students')\n",
    "# ionq_provider = IonQProvider(\"\")"
   ]
  },
  {
   "cell_type": "code",
   "execution_count": 2,
   "id": "79be2937",
   "metadata": {},
   "outputs": [],
   "source": [
    "import numpy as np\n",
    "from qiskit import QuantumCircuit, transpile\n",
    "from qiskit.quantum_info.operators import Operator\n",
    "from qiskit.providers.ibmq.managed import IBMQJobManager\n",
    "from qiskit.visualization import plot_histogram\n",
    "import matplotlib.pyplot as plt\n",
    "from quantum_walk_simulation import staggered_dsg_circuit_3t"
   ]
  },
  {
   "cell_type": "code",
   "execution_count": 3,
   "id": "8cddc8af",
   "metadata": {},
   "outputs": [],
   "source": [
    "size_degree = 2\n",
    "shots = 4000\n",
    "\n",
    "displacement_dict = {\"000000001\":0, \"000000010\":1, \"000000100\":1, \n",
    "                     \"000001000\":9, \"000010000\":7, \"000100000\":4,\n",
    "                     \"001000000\":9, \"010000000\":4, \"100000000\":7}"
   ]
  },
  {
   "cell_type": "code",
   "execution_count": 4,
   "id": "57b40113",
   "metadata": {},
   "outputs": [],
   "source": [
    "sys = 'ibmq_qasm_simulator'\n",
    "sim = ibmq_provider.get_backend(sys)"
   ]
  },
  {
   "cell_type": "code",
   "execution_count": 5,
   "id": "24248ece",
   "metadata": {},
   "outputs": [],
   "source": [
    "steps = 300\n",
    "dt = 0.01\n",
    "layers = 10\n",
    "t = np.linspace(dt, steps*dt, steps)\n",
    "name = f'dsg_3tqw_{steps*dt:.1f}s_{layers:d}ly'"
   ]
  },
  {
   "cell_type": "code",
   "execution_count": 6,
   "id": "1d0e71dc",
   "metadata": {},
   "outputs": [],
   "source": [
    "circs = []\n",
    "\n",
    "# Build a circuit list.\n",
    "for i in range(steps):\n",
    "    circs.append(staggered_dsg_circuit_3t(size_degree, t[i], layers, model='Heisenberg'))\n",
    "\n",
    "# circs[20].draw('mpl')\n",
    "\n",
    "# Need to transpile the circuits first.\n",
    "transpiled_circs = transpile(circs, backend=sim, optimization_level=2)\n",
    "\n",
    "# Use Job Manager to break the circuits into multiple jobs.\n",
    "job_manager = IBMQJobManager()\n",
    "job_set = job_manager.run(transpiled_circs, backend=sim, name=sys+'_'+name, shots=shots)"
   ]
  },
  {
   "cell_type": "code",
   "execution_count": 7,
   "id": "9c9e21bd",
   "metadata": {},
   "outputs": [],
   "source": [
    "results = job_set.results()\n",
    "counts_list = list()\n",
    "for i in range(steps):\n",
    "    counts_list.append(results.get_counts(i))"
   ]
  },
  {
   "cell_type": "code",
   "execution_count": 8,
   "id": "9957d8b3",
   "metadata": {},
   "outputs": [],
   "source": [
    "msd_temp = 0.\n",
    "msd_list = list()\n",
    "\n",
    "for i in range(steps):\n",
    "    msd_temp = 0.\n",
    "    for bit, count in counts_list[i].items():\n",
    "        msd_temp += displacement_dict.get(bit)*count/shots\n",
    "    msd_list.append(msd_temp)"
   ]
  },
  {
   "cell_type": "code",
   "execution_count": 9,
   "id": "4cc7a662",
   "metadata": {},
   "outputs": [
    {
     "data": {
      "text/plain": [
       "[<matplotlib.lines.Line2D at 0x1f1e3f679d0>]"
      ]
     },
     "execution_count": 9,
     "metadata": {},
     "output_type": "execute_result"
    },
    {
     "data": {
      "image/png": "[encoded data removed]",
      "text/plain": [
       "<Figure size 432x288 with 1 Axes>"
      ]
     },
     "metadata": {
      "needs_background": "light"
     },
     "output_type": "display_data"
    }
   ],
   "source": [
    "plt.plot(t, msd_list)"
   ]
  },
  {
   "cell_type": "code",
   "execution_count": 10,
   "id": "24774a15",
   "metadata": {},
   "outputs": [],
   "source": [
    "import pickle\n",
    "\n",
    "with open('simulator/'+sys+'_'+name+'_counts_list.pkl','wb') as file :\n",
    "    pickle.dump(counts_list, file)"
   ]
  },
  {
   "cell_type": "code",
   "execution_count": 11,
   "id": "7928fd6f",
   "metadata": {},
   "outputs": [],
   "source": [
    "import csv\n",
    "\n",
    "with open('simulator/'+sys+'_'+name+'_msd_list.csv','w') as file :\n",
    "    write = csv.writer(file)\n",
    "    write.writerow(msd_list)"
   ]
  },
  {
   "cell_type": "code",
   "execution_count": 2,
   "id": "deb483c4-05f7-4286-8e6d-573c4283ef58",
   "metadata": {},
   "outputs": [],
   "source": [
    "import numpy as np\n",
    "from qiskit import QuantumCircuit\n",
    "from qiskit.quantum_info.operators import Operator\n",
    "\n",
    "def staggered_dsg_circuit_3t(size_degree: int = 2, t: float = 1., layers: int = 1) -> QuantumCircuit:\n",
    "    \"\"\"\n",
    "    Given size, time t, and the number of steps n, constructs the corresponding staggered quantum walk circuit on DSG.\n",
    "    Still fixed size_degree at 2\n",
    "    3 parts of tessellation\n",
    "    Args:\n",
    "        size_degree: The degree of DSG (size = 3**size_degree)\n",
    "        t: Total simulation time\n",
    "        layers: Number of layers\n",
    "    Returns:\n",
    "        QuantumCircuit\n",
    "    \"\"\"\n",
    "    \n",
    "    size = 3**size_degree\n",
    "    node_list = np.arange(size)\n",
    "    theta = np.pi*t/layers\n",
    "    zeta = complex(np.cos(-2*theta), np.sin(-2*theta))\n",
    "    \n",
    "    interaction_2 = Operator([\n",
    "        [1, 0, 0, 0],\n",
    "        [0, (zeta+1)/2, (-1*zeta+1)/2, 0],\n",
    "        [0, (-1*zeta+1)/2, (zeta+1)/2, 0],\n",
    "        [0, 0, 0, 1]\n",
    "    ])\n",
    "\n",
    "    simulation = QuantumCircuit(size, size)\n",
    "\n",
    "    simulation.x(0)\n",
    "\n",
    "    for i in range(layers):\n",
    "        \n",
    "        simulation.barrier()\n",
    "        \n",
    "        # Staggered Quantum Walks tessellation 1\n",
    "        for j in node_list[::3]:\n",
    "            a = int(j+(j//3)%3)\n",
    "            b = int(j+(j//3+1)%3)\n",
    "            simulation.unitary(interaction_2, [node_list[a], node_list[b]], label='tessel_1')\n",
    "        for j in node_list[7::9]:\n",
    "            simulation.unitary(interaction_2, [j, node_list[j-5]], label='tessel_1')\n",
    "        \n",
    "        # Staggered Quantum Walks tessellation 2\n",
    "        for j in node_list[::3]:\n",
    "            a = int(j+(j//3+2)%3)\n",
    "            b = int(j+(j//3)%3)\n",
    "            simulation.unitary(interaction_2, [node_list[a], node_list[b]], label='tessel_2')\n",
    "        for j in node_list[1::9]:\n",
    "            simulation.unitary(interaction_2, [j, node_list[j-5]], label='tessel_2')\n",
    "        \n",
    "        # Staggered Quantum Walks tessellation 3\n",
    "        for j in node_list[::3]:\n",
    "            a = int(j+(j//3+1)%3)\n",
    "            b = int(j+(j//3+2)%3)\n",
    "            simulation.unitary(interaction_2, [node_list[a], node_list[b]], label='tessel_3')\n",
    "        for j in node_list[4::9]:\n",
    "            simulation.unitary(interaction_2, [j, node_list[j-5]], label='tessel_3')\n",
    "    \n",
    "    simulation.barrier()\n",
    "    \n",
    "    for i in node_list:\n",
    "        simulation.measure(i, i)\n",
    "       \n",
    "    return simulation"
   ]
  },
  {
   "cell_type": "code",
   "execution_count": 3,
   "id": "03aa7c3b",
   "metadata": {},
   "outputs": [],
   "source": [
    "import numpy as np\n",
    "from qiskit import QuantumCircuit, transpile\n",
    "from qiskit.quantum_info.operators import Operator\n",
    "from qiskit.providers.ibmq.managed import IBMQJobManager\n",
    "from qiskit.visualization import plot_histogram\n",
    "import matplotlib.pyplot as plt"
   ]
  },
  {
   "cell_type": "code",
   "execution_count": 4,
   "id": "577f3053",
   "metadata": {},
   "outputs": [],
   "source": [
    "size_degree = 2\n",
    "shots = 4000\n",
    "\n",
    "displacement_dict = {\"000000001\":0, \"000000010\":1, \"000000100\":1, \n",
    "                     \"000001000\":9, \"000010000\":7, \"000100000\":4,\n",
    "                     \"001000000\":9, \"010000000\":4, \"100000000\":7}"
   ]
  },
  {
   "cell_type": "code",
   "execution_count": 5,
   "id": "f6ef9845",
   "metadata": {},
   "outputs": [],
   "source": [
    "sys = 'ibmq_qasm_simulator'\n",
    "sim = ibmq_provider.get_backend(sys)"
   ]
  },
  {
   "cell_type": "code",
   "execution_count": 6,
   "id": "471d0368",
   "metadata": {},
   "outputs": [],
   "source": [
    "steps = 300\n",
    "dt = 0.01\n",
    "layers = 10\n",
    "t = np.linspace(dt, steps*dt, steps)\n",
    "name = f'dsg_3tqw_{steps*dt:.1f}s_{layers:d}ly'"
   ]
  },
  {
   "cell_type": "code",
   "execution_count": 7,
   "id": "f7bf063b",
   "metadata": {},
   "outputs": [],
   "source": [
    "circs = []\n",
    "\n",
    "# Build a circuit list.\n",
    "for i in range(steps):\n",
    "    circs.append(staggered_dsg_circuit_3t(size_degree, t[i], layers))\n",
    "\n",
    "# circs[20].draw('mpl')\n",
    "\n",
    "# Need to transpile the circuits first.\n",
    "transpiled_circs = transpile(circs, backend=sim, optimization_level=2)\n",
    "\n",
    "# Use Job Manager to break the circuits into multiple jobs.\n",
    "job_manager = IBMQJobManager()\n",
    "job_set = job_manager.run(transpiled_circs, backend=sim, name=sys+'_'+name, shots=shots)"
   ]
  },
  {
   "cell_type": "code",
   "execution_count": 8,
   "id": "cd5ce9be",
   "metadata": {},
   "outputs": [],
   "source": [
    "results = job_set.results()\n",
    "counts_list = list()\n",
    "for i in range(steps):\n",
    "    counts_list.append(results.get_counts(i))"
   ]
  },
  {
   "cell_type": "code",
   "execution_count": 9,
   "id": "75c88bf5-2bb1-467a-bc48-7ff2e57b1bc3",
   "metadata": {},
   "outputs": [],
   "source": [
    "msd_temp = 0.\n",
    "msd_list = list()\n",
    "\n",
    "for i in range(steps):\n",
    "    msd_temp = 0.\n",
    "    for bit, count in counts_list[i].items():\n",
    "        msd_temp += displacement_dict.get(bit)*count/shots\n",
    "    msd_list.append(msd_temp)"
   ]
  },
  {
   "cell_type": "code",
   "execution_count": 10,
   "id": "64869eb6-4c09-4a0a-bcb3-83cd88823237",
   "metadata": {},
   "outputs": [
    {
     "data": {
      "text/plain": [
       "[<matplotlib.lines.Line2D at 0x1d23955a340>]"
      ]
     },
     "execution_count": 10,
     "metadata": {},
     "output_type": "execute_result"
    },
    {
     "data": {
      "image/png": "[encoded data removed]",
      "text/plain": [
       "<Figure size 432x288 with 1 Axes>"
      ]
     },
     "metadata": {
      "needs_background": "light"
     },
     "output_type": "display_data"
    }
   ],
   "source": [
    "plt.plot(t, msd_list)"
   ]
  },
  {
   "cell_type": "code",
   "execution_count": 11,
   "id": "0f4474cf",
   "metadata": {},
   "outputs": [],
   "source": [
    "import pickle\n",
    "\n",
    "with open('simulator/'+sys+'_'+name+'_counts_list.pkl','wb') as file :\n",
    "    pickle.dump(counts_list, file)"
   ]
  },
  {
   "cell_type": "code",
   "execution_count": 12,
   "id": "e6a1e04b-0113-4ce6-84de-bea6e1aff75f",
   "metadata": {},
   "outputs": [],
   "source": [
    "import csv\n",
    "\n",
    "with open('simulator/'+sys+'_'+name+'_msd_list.csv','w') as file :\n",
    "    write = csv.writer(file)\n",
    "    write.writerow(msd_list)"
   ]
  },
  {
   "cell_type": "code",
   "execution_count": 5,
   "id": "dd56d6f2",
   "metadata": {},
   "outputs": [],
   "source": [
    "sys = 'ibm_hanoi'\n",
    "backend = ibmq_provider.get_backend(sys)"
   ]
  },
  {
   "cell_type": "code",
   "execution_count": 6,
   "id": "59bd480e",
   "metadata": {},
   "outputs": [],
   "source": [
    "steps = 300\n",
    "dt = 0.01\n",
    "layers = 2\n",
    "t = np.linspace(dt, steps*dt, steps)\n",
    "name = f'dsg_3tqw_{steps*dt:.1f}s_{layers:d}ly'"
   ]
  },
  {
   "cell_type": "code",
   "execution_count": 7,
   "id": "138d8b87",
   "metadata": {},
   "outputs": [],
   "source": [
    "circs = []\n",
    "\n",
    "# Build a circuit list.\n",
    "for i in range(steps):\n",
    "    circs.append(staggered_dsg_circuit_3t(size_degree, t[i], layers))\n",
    "\n",
    "# Need to transpile the circuits first.\n",
    "transpiled_circs = transpile(circs, backend=backend, optimization_level=2)\n",
    "\n",
    "# Use Job Manager to break the circuits into multiple jobs.\n",
    "job_manager = IBMQJobManager()\n",
    "job_set = job_manager.run(transpiled_circs, backend=backend, name=sys+'_'+name, shots=shots)"
   ]
  },
  {
   "cell_type": "code",
   "execution_count": 8,
   "id": "c9104541",
   "metadata": {},
   "outputs": [],
   "source": [
    "results = job_set.results()\n",
    "counts_list = list()\n",
    "for i in range(steps):\n",
    "    counts_list.append(results.get_counts(i))"
   ]
  },
  {
   "cell_type": "code",
   "execution_count": 9,
   "id": "c91877e2",
   "metadata": {},
   "outputs": [],
   "source": [
    "msd_list = list()\n",
    "\n",
    "for i in range(steps):\n",
    "    valid_count = 0\n",
    "    for bit, count in counts_list[i].items():\n",
    "        valid_count += (displacement_dict.get(bit, -1) > -1)*count\n",
    "    msd_temp = 0.\n",
    "    for bit, count in counts_list[i].items():\n",
    "        msd_temp += displacement_dict.get(bit, 0)*count/valid_count\n",
    "    msd_list.append(msd_temp)"
   ]
  },
  {
   "cell_type": "code",
   "execution_count": 10,
   "id": "a266fc9a",
   "metadata": {
    "scrolled": true
   },
   "outputs": [
    {
     "data": {
      "text/plain": [
       "[<matplotlib.lines.Line2D at 0x1fda9fc0610>]"
      ]
     },
     "execution_count": 10,
     "metadata": {},
     "output_type": "execute_result"
    },
    {
     "data": {
      "image/png": "[encoded data removed]",
      "text/plain": [
       "<Figure size 432x288 with 1 Axes>"
      ]
     },
     "metadata": {
      "needs_background": "light"
     },
     "output_type": "display_data"
    }
   ],
   "source": [
    "plt.plot(t, msd_list)"
   ]
  },
  {
   "cell_type": "code",
   "execution_count": 11,
   "id": "610cb31f",
   "metadata": {},
   "outputs": [],
   "source": [
    "import pickle\n",
    "\n",
    "with open('qpu/'+sys+'_'+name+'_counts_list.pkl','wb') as file :\n",
    "    pickle.dump(counts_list, file)"
   ]
  },
  {
   "cell_type": "code",
   "execution_count": 12,
   "id": "194cd1a6",
   "metadata": {},
   "outputs": [],
   "source": [
    "import csv\n",
    "\n",
    "with open('qpu/'+sys+'_'+name+'_msd_list.csv','w') as file :\n",
    "    write = csv.writer(file)\n",
    "    write.writerow(msd_list)"
   ]
  },
  {
   "cell_type": "code",
   "execution_count": null,
   "id": "5bcd5701",
   "metadata": {},
   "outputs": [],
   "source": [
    "sys = 'ionq_simulator'\n",
    "backend = ionq_provider.get_backend(sys)"
   ]
  },
  {
   "cell_type": "code",
   "execution_count": null,
   "id": "03501754",
   "metadata": {},
   "outputs": [],
   "source": [
    "steps = 300\n",
    "dt = 0.01\n",
    "layers = 2\n",
    "t = np.linspace(dt, steps*dt, steps)\n",
    "name = f'dsg_3tqw_{steps*dt:.1f}s_{layers:d}ly'"
   ]
  },
  {
   "cell_type": "code",
   "execution_count": 25,
   "id": "8b29b2ac",
   "metadata": {},
   "outputs": [
    {
     "name": "stdout",
     "output_type": "stream",
     "text": [
      "in prograss... 0%\n",
      "in prograss... 10%\n",
      "in prograss... 20%\n",
      "in prograss... 30%\n",
      "in prograss... 40%\n",
      "in prograss... 50%\n",
      "in prograss... 60%\n",
      "in prograss... 70%\n",
      "in prograss... 80%\n",
      "in prograss... 90%\n",
      "complete!      100%\n"
     ]
    }
   ],
   "source": [
    "counts_list = list()\n",
    "\n",
    "for i in range(steps):\n",
    "    circ = staggered_dsg_circuit_3t(size_degree, t[i], layers)\n",
    "    transpiled_circ = transpile(circ, backend, optimization_level=2)\n",
    "    job = backend.run(transpiled_circ, shots=shots)\n",
    "    results = job.result()\n",
    "    counts_list.append(results.get_counts())\n",
    "    if i%10 == 0:\n",
    "        print(f'in prograss... {i}%')\n",
    "\n",
    "print(f'complete!      100%')"
   ]
  },
  {
   "cell_type": "code",
   "execution_count": 18,
   "id": "cfa3be5a",
   "metadata": {},
   "outputs": [],
   "source": [
    "msd_temp = 0.\n",
    "msd_list = list()\n",
    "\n",
    "for i in range(steps):\n",
    "    msd_temp = 0.\n",
    "    for bits, number in counts_list[i].items():\n",
    "        msd_temp += displacement_dict.get(bits)*number/shots\n",
    "    msd_list.append(msd_temp)"
   ]
  },
  {
   "cell_type": "code",
   "execution_count": 26,
   "id": "e615fdda",
   "metadata": {},
   "outputs": [
    {
     "data": {
      "text/plain": [
       "[<matplotlib.lines.Line2D at 0x1bedf3476d0>]"
      ]
     },
     "execution_count": 26,
     "metadata": {},
     "output_type": "execute_result"
    },
    {
     "data": {
      "image/png": "[encoded data removed]",
      "text/plain": [
       "<Figure size 432x288 with 1 Axes>"
      ]
     },
     "metadata": {
      "needs_background": "light"
     },
     "output_type": "display_data"
    }
   ],
   "source": [
    "plt.plot(t, msd_list)"
   ]
  },
  {
   "cell_type": "code",
   "execution_count": 27,
   "id": "5f9a806b",
   "metadata": {},
   "outputs": [],
   "source": [
    "import pickle\n",
    "\n",
    "with open('simulator/'+sys+'_'+name+'_counts_list.pkl','wb') as file :\n",
    "    pickle.dump(counts_list, file)"
   ]
  },
  {
   "cell_type": "code",
   "execution_count": 28,
   "id": "12133066",
   "metadata": {},
   "outputs": [],
   "source": [
    "import csv\n",
    "\n",
    "with open('simulator/'+sys+'_'+name+'_msd_list.csv','w') as file :\n",
    "    write = csv.writer(file)\n",
    "    write.writerow(msd_list)"
   ]
  },
  {
   "cell_type": "code",
   "execution_count": null,
   "id": "9de960a4",
   "metadata": {},
   "outputs": [],
   "source": [
    "sys = 'ionq_qpu'\n",
    "backend = ionq_provider.get_backend(sys)"
   ]
  },
  {
   "cell_type": "code",
   "execution_count": null,
   "id": "30ade39a",
   "metadata": {},
   "outputs": [],
   "source": [
    "steps = 60\n",
    "dt = 0.01\n",
    "layers = 2\n",
    "t = np.linspace(dt, steps*dt, steps)\n",
    "name = f'dsg_3tqw_{steps*dt:.1f}s_{layers:d}ly'"
   ]
  },
  {
   "cell_type": "code",
   "execution_count": null,
   "id": "1460c731",
   "metadata": {},
   "outputs": [],
   "source": [
    "counts_list = list()\n",
    "\n",
    "for i in range(steps):\n",
    "    circ = staggered_dsg_circuit_3t(size_degree, t[i], layers)\n",
    "    transpiled_circ = transpile(circ, backend, optimization_level=2)\n",
    "    job = backend.run(transpiled_circ, shots=shots)\n",
    "    results = job.result()\n",
    "    counts_list.append(results.get_counts())\n",
    "    if i%10 == 0:\n",
    "        print(f'in prograss... {i}%')\n",
    "\n",
    "print(f'complete!      100%')"
   ]
  },
  {
   "cell_type": "code",
   "execution_count": null,
   "id": "f94afd3e",
   "metadata": {},
   "outputs": [],
   "source": [
    "msd_temp = 0.\n",
    "msd_list = list()\n",
    "\n",
    "for i in range(steps):\n",
    "    msd_temp = 0.\n",
    "    for bits, number in counts_list[i].items():\n",
    "        msd_temp += displacement_dict.get(bits)*number/shots\n",
    "    msd_list.append(msd_temp)"
   ]
  },
  {
   "cell_type": "code",
   "execution_count": null,
   "id": "e411bc81",
   "metadata": {},
   "outputs": [],
   "source": [
    "plt.plot(t, msd_list)"
   ]
  },
  {
   "cell_type": "code",
   "execution_count": null,
   "id": "1eb45250",
   "metadata": {},
   "outputs": [],
   "source": [
    "import pickle\n",
    "\n",
    "with open('qpu/'+sys+'_'+name+'_counts_list.pkl','wb') as file :\n",
    "    pickle.dump(counts_list, file)"
   ]
  },
  {
   "cell_type": "code",
   "execution_count": null,
   "id": "26cf33f6",
   "metadata": {},
   "outputs": [],
   "source": [
    "import csv\n",
    "\n",
    "with open('qpu/'+sys+'_'+name+'_msd_list.csv','w') as file :\n",
    "    write = csv.writer(file)\n",
    "    write.writerow(msd_list)"
   ]
  },
  {
   "cell_type": "code",
   "execution_count": 14,
   "id": "8bfdfe36",
   "metadata": {},
   "outputs": [],
   "source": [
    "sys = 'ionq_qpu'\n",
    "backend = ionq_provider.get_backend(sys)\n",
    "circ = staggered_dsg_circuit_3t(size_degree, t[45], 1)\n",
    "transpiled_circ = transpile(circ, backend, optimization_level=2)\n",
    "job = backend.run(transpiled_circ, shots=shots)\n",
    "results = job.result()\n",
    "counts = results.get_counts()"
   ]
  },
  {
   "cell_type": "code",
   "execution_count": 15,
   "id": "1454866c",
   "metadata": {
    "collapsed": true
   },
   "outputs": [
    {
     "data": {
      "image/png": "[encoded data removed]",
      "text/plain": [
       "<Figure size 504x360 with 1 Axes>"
      ]
     },
     "execution_count": 15,
     "metadata": {},
     "output_type": "execute_result"
    }
   ],
   "source": [
    "plot_histogram((counts_list[45], counts))"
   ]
  },
  {
   "cell_type": "code",
   "execution_count": null,
   "id": "59f1319a",
   "metadata": {},
   "outputs": [],
   "source": []
  }
 ],
 "metadata": {
  "kernelspec": {
   "display_name": "Python 3 (ipykernel)",
   "language": "python",
   "name": "python3"
  },
  "language_info": {
   "codemirror_mode": {
    "name": "ipython",
    "version": 3
   },
   "file_extension": ".py",
   "mimetype": "text/x-python",
   "name": "python",
   "nbconvert_exporter": "python",
   "pygments_lexer": "ipython3",
   "version": "3.9.12"
  },
  "widgets": {
   "application/vnd.jupyter.widget-state+json": {
    "state": {
     "0dfd41db18c34b0dbea96134dc99a129": {
      "model_module": "@jupyter-widgets/controls",
      "model_module_version": "1.5.0",
      "model_name": "HTMLModel",
      "state": {
       "layout": "IPY_MODEL_139b9eec4e174fceb46ed8afa3cb821a",
       "style": "IPY_MODEL_a833a5ca611e4d60afffa8b4b2a8429d",
       "value": "<h5>Job ID</h5>"
      }
     },
     "139b9eec4e174fceb46ed8afa3cb821a": {
      "model_module": "@jupyter-widgets/base",
      "model_module_version": "1.2.0",
      "model_name": "LayoutModel",
      "state": {
       "width": "190px"
      }
     },
     "2cc1b7bb21004daf9fec45bb3ebe3552": {
      "model_module": "@jupyter-widgets/controls",
      "model_module_version": "1.5.0",
      "model_name": "GridBoxModel",
      "state": {
       "children": [
        "IPY_MODEL_e3711b265fcc424e866264897906d5b2"
       ],
       "layout": "IPY_MODEL_30ede94d863446f69dcea359339ac573"
      }
     },
     "30ede94d863446f69dcea359339ac573": {
      "model_module": "@jupyter-widgets/base",
      "model_module_version": "1.2.0",
      "model_name": "LayoutModel",
      "state": {
       "grid_template_areas": "\n                                       \". . . . right \"\n                                        ",
       "grid_template_columns": "20% 20% 20% 20% 20%",
       "width": "100%"
      }
     },
     "3894f25a369e48b29317ffbfbb67616e": {
      "model_module": "@jupyter-widgets/controls",
      "model_module_version": "1.5.0",
      "model_name": "ButtonStyleModel",
      "state": {}
     },
     "3cbd2c1893664291afdb53e52de3d175": {
      "model_module": "@jupyter-widgets/base",
      "model_module_version": "1.2.0",
      "model_name": "LayoutModel",
      "state": {
       "width": "70px"
      }
     },
     "4c4c5af9dcdf415d9e83a2428f5452a3": {
      "model_module": "@jupyter-widgets/controls",
      "model_module_version": "1.5.0",
      "model_name": "DescriptionStyleModel",
      "state": {
       "description_width": ""
      }
     },
     "593cb8c1f5b0435bb442c8a6f7b1e71c": {
      "model_module": "@jupyter-widgets/base",
      "model_module_version": "1.2.0",
      "model_name": "LayoutModel",
      "state": {
       "margin": "0px 0px 0px 37px",
       "width": "600px"
      }
     },
     "652c9dbf25964d018ad244d6af9f2e5e": {
      "model_module": "@jupyter-widgets/controls",
      "model_module_version": "1.5.0",
      "model_name": "HBoxModel",
      "state": {
       "children": [
        "IPY_MODEL_0dfd41db18c34b0dbea96134dc99a129",
        "IPY_MODEL_ac1e8bb0d9524b0490645f50a0c0df3b",
        "IPY_MODEL_6c46a29b3a0947049845c01c47685d54",
        "IPY_MODEL_cb5bb054fcd441f7b8b6e7099b0114b8",
        "IPY_MODEL_c055138df40544b48add64612af4bf59"
       ],
       "layout": "IPY_MODEL_593cb8c1f5b0435bb442c8a6f7b1e71c"
      }
     },
     "66c0674d121b4ce1886e59c463dcf979": {
      "model_module": "@jupyter-widgets/controls",
      "model_module_version": "1.5.0",
      "model_name": "DescriptionStyleModel",
      "state": {
       "description_width": ""
      }
     },
     "6c46a29b3a0947049845c01c47685d54": {
      "model_module": "@jupyter-widgets/controls",
      "model_module_version": "1.5.0",
      "model_name": "HTMLModel",
      "state": {
       "layout": "IPY_MODEL_bcb62b8d88e344cd928de58ea60e8cb2",
       "style": "IPY_MODEL_e5f2bd193b8149808685fbaf58c1480b",
       "value": "<h5>Status</h5>"
      }
     },
     "6eecf64ddab54b0eb4c51efea2b666ae": {
      "model_module": "@jupyter-widgets/base",
      "model_module_version": "1.2.0",
      "model_name": "LayoutModel",
      "state": {}
     },
     "72e6e461298944788b2145a916ee9320": {
      "model_module": "@jupyter-widgets/base",
      "model_module_version": "1.2.0",
      "model_name": "LayoutModel",
      "state": {
       "grid_area": "right",
       "padding": "0px 0px 0px 0px",
       "width": "70px"
      }
     },
     "8e2b5de678904f9eadf3a571dd60282b": {
      "model_module": "@jupyter-widgets/controls",
      "model_module_version": "1.5.0",
      "model_name": "HTMLModel",
      "state": {
       "layout": "IPY_MODEL_ba7c31ec6e964da8ab218fd8f372bf51",
       "style": "IPY_MODEL_66c0674d121b4ce1886e59c463dcf979",
       "value": "<p style='font-family: IBM Plex Sans, Arial, Helvetica, sans-serif; font-size: 20px; font-weight: medium;'>Circuit Properties</p>"
      }
     },
     "987062c0f0494941bec978aa947e1f02": {
      "model_module": "@jupyter-widgets/controls",
      "model_module_version": "1.5.0",
      "model_name": "DescriptionStyleModel",
      "state": {
       "description_width": ""
      }
     },
     "a833a5ca611e4d60afffa8b4b2a8429d": {
      "model_module": "@jupyter-widgets/controls",
      "model_module_version": "1.5.0",
      "model_name": "DescriptionStyleModel",
      "state": {
       "description_width": ""
      }
     },
     "ac1e8bb0d9524b0490645f50a0c0df3b": {
      "model_module": "@jupyter-widgets/controls",
      "model_module_version": "1.5.0",
      "model_name": "HTMLModel",
      "state": {
       "layout": "IPY_MODEL_f3b4a65d378940aaac640ba59835e057",
       "style": "IPY_MODEL_987062c0f0494941bec978aa947e1f02",
       "value": "<h5>Backend</h5>"
      }
     },
     "ba7c31ec6e964da8ab218fd8f372bf51": {
      "model_module": "@jupyter-widgets/base",
      "model_module_version": "1.2.0",
      "model_name": "LayoutModel",
      "state": {
       "margin": "0px 0px 10px 0px"
      }
     },
     "bcb62b8d88e344cd928de58ea60e8cb2": {
      "model_module": "@jupyter-widgets/base",
      "model_module_version": "1.2.0",
      "model_name": "LayoutModel",
      "state": {
       "width": "95px"
      }
     },
     "c055138df40544b48add64612af4bf59": {
      "model_module": "@jupyter-widgets/controls",
      "model_module_version": "1.5.0",
      "model_name": "HTMLModel",
      "state": {
       "layout": "IPY_MODEL_6eecf64ddab54b0eb4c51efea2b666ae",
       "style": "IPY_MODEL_4c4c5af9dcdf415d9e83a2428f5452a3",
       "value": "<h5>Message</h5>"
      }
     },
     "cb5bb054fcd441f7b8b6e7099b0114b8": {
      "model_module": "@jupyter-widgets/controls",
      "model_module_version": "1.5.0",
      "model_name": "HTMLModel",
      "state": {
       "layout": "IPY_MODEL_3cbd2c1893664291afdb53e52de3d175",
       "style": "IPY_MODEL_d60f22683e724985a74c52a800b9eacf",
       "value": "<h5>Queue</h5>"
      }
     },
     "d60f22683e724985a74c52a800b9eacf": {
      "model_module": "@jupyter-widgets/controls",
      "model_module_version": "1.5.0",
      "model_name": "DescriptionStyleModel",
      "state": {
       "description_width": ""
      }
     },
     "e3711b265fcc424e866264897906d5b2": {
      "model_module": "@jupyter-widgets/controls",
      "model_module_version": "1.5.0",
      "model_name": "ButtonModel",
      "state": {
       "button_style": "primary",
       "description": "Clear",
       "layout": "IPY_MODEL_72e6e461298944788b2145a916ee9320",
       "style": "IPY_MODEL_3894f25a369e48b29317ffbfbb67616e"
      }
     },
     "e5f2bd193b8149808685fbaf58c1480b": {
      "model_module": "@jupyter-widgets/controls",
      "model_module_version": "1.5.0",
      "model_name": "DescriptionStyleModel",
      "state": {
       "description_width": ""
      }
     },
     "f3b4a65d378940aaac640ba59835e057": {
      "model_module": "@jupyter-widgets/base",
      "model_module_version": "1.2.0",
      "model_name": "LayoutModel",
      "state": {
       "width": "145px"
      }
     }
    },
    "version_major": 2,
    "version_minor": 0
   }
  }
 },
 "nbformat": 4,
 "nbformat_minor": 5
}
