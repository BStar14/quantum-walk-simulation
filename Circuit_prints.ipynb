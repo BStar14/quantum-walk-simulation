{
 "cells": [
  {
   "cell_type": "code",
   "execution_count": 1,
   "id": "fda16a97",
   "metadata": {},
   "outputs": [],
   "source": [
    "import numpy as np\n",
    "from qiskit import QuantumRegister, QuantumCircuit, transpile\n",
    "from qiskit.quantum_info.operators import Operator\n",
    "from qiskit.providers.ibmq.managed import IBMQJobManager\n",
    "from qiskit.visualization import plot_histogram\n",
    "import matplotlib.pyplot as plt\n",
    "from staggered_dsg_circuit_3t_bin import *"
   ]
  },
  {
   "cell_type": "code",
   "execution_count": 2,
   "id": "9146786a",
   "metadata": {},
   "outputs": [],
   "source": [
    "size_degree = 2\n",
    "shots = 4000\n",
    "\n",
    "displacement_dict = {\"0000\":0, \"0001\":1, \"0010\":1, \n",
    "                     \"0011\":9, \"0100\":7, \"0101\":4,\n",
    "                     \"0110\":9, \"0111\":4, \"1000\":7}"
   ]
  },
  {
   "cell_type": "code",
   "execution_count": 3,
   "id": "c937bf14",
   "metadata": {},
   "outputs": [],
   "source": [
    "steps = 300\n",
    "dt = 0.01\n",
    "layers = 1\n",
    "t = np.linspace(dt, steps*dt, steps)\n",
    "name = f'dsg_log3tqw_tb_{steps*dt:.1f}s_{layers:d}ly'"
   ]
  },
  {
   "cell_type": "code",
   "execution_count": 6,
   "id": "40942cfd",
   "metadata": {},
   "outputs": [
    {
     "data": {
      "image/png": "[encoded data removed]",
      "text/plain": [
       "<Figure size 929.397x325.08 with 1 Axes>"
      ]
     },
     "execution_count": 6,
     "metadata": {},
     "output_type": "execute_result"
    }
   ],
   "source": [
    "saveas = '\\State_mapping_circuit'\n",
    "staggered_dsg_circuit_3t_bin(size_degree, .5, layers, wrap=True, model='XY').draw('mpl', filename=f'Downloads{saveas}.jpg')"
   ]
  },
  {
   "cell_type": "code",
   "execution_count": 9,
   "id": "b7d767de",
   "metadata": {},
   "outputs": [],
   "source": [
    "from qiskit.circuit import Parameter\n",
    "\n",
    "t = Parameter('t')"
   ]
  },
  {
   "cell_type": "code",
   "execution_count": 14,
   "id": "483aee42",
   "metadata": {},
   "outputs": [],
   "source": [
    "# Build a subcircuit for ZZ(t) from single- and two-qubit gates\n",
    "\n",
    "ZZ_qr = QuantumRegister(2)\n",
    "ZZ_qc = QuantumCircuit(ZZ_qr, name='ZZ')\n",
    "\n",
    "ZZ_qc.cnot(0,1)\n",
    "ZZ_qc.rz(2 * t, 1)\n",
    "ZZ_qc.cnot(0,1)\n",
    "\n",
    "# Convert custom quantum circuit into a gate\n",
    "ZZ = ZZ_qc.to_instruction()"
   ]
  },
  {
   "cell_type": "code",
   "execution_count": 15,
   "id": "91cd3823",
   "metadata": {},
   "outputs": [],
   "source": [
    "\n",
    "XX_qr = QuantumRegister(2)\n",
    "XX_qc = QuantumCircuit(XX_qr, name='XX')\n",
    "\n",
    "###EDIT CODE BELOW (add Clifford operator)\n",
    "\n",
    "XX_qc.h([0, 1])\n",
    "\n",
    "###DO NOT EDIT BELOW\n",
    "\n",
    "XX_qc.append(ZZ, [0,1])\n",
    "\n",
    "###EDIT CODE BELOW (add Clifford operator)\n",
    "\n",
    "XX_qc.h([0, 1])\n",
    "\n",
    "###DO NOT EDIT BELOW\n",
    "\n",
    "# Convert custom quantum circuit into a gate\n",
    "XX = XX_qc.to_instruction()"
   ]
  },
  {
   "cell_type": "code",
   "execution_count": 16,
   "id": "14078cef",
   "metadata": {},
   "outputs": [],
   "source": [
    "\n",
    "YY_qr = QuantumRegister(2)\n",
    "YY_qc = QuantumCircuit(YY_qr, name='YY')\n",
    "\n",
    "###EDIT CODE BELOW (add Clifford operator)\n",
    "\n",
    "YY_qc.sdg([0,1])\n",
    "YY_qc.h([0,1])\n",
    "\n",
    "###DO NOT EDIT BELOW\n",
    "\n",
    "YY_qc.append(ZZ, [0,1])\n",
    "\n",
    "###EDIT CODE BELOW (add Clifford operator)\n",
    "\n",
    "YY_qc.h([0,1])\n",
    "YY_qc.s([0,1])\n",
    "\n",
    "###DO NOT EDIT BELOW\n",
    "\n",
    "# Convert custom quantum circuit into a gate\n",
    "YY = YY_qc.to_instruction()"
   ]
  },
  {
   "cell_type": "code",
   "execution_count": 27,
   "id": "2385d87f",
   "metadata": {},
   "outputs": [
    {
     "data": {
      "image/png": "[encoded data removed]",
      "text/plain": [
       "<Figure size 267.052x144.48 with 1 Axes>"
      ]
     },
     "execution_count": 27,
     "metadata": {},
     "output_type": "execute_result"
    }
   ],
   "source": [
    "qc = QuantumCircuit(2)\n",
    "qc.append(XX, [0,1])\n",
    "qc.append(YY, [0,1])\n",
    "qc.append(ZZ, [0,1])\n",
    "\n",
    "filename = 'Qubit_mapping_Heisenberg.jpg'\n",
    "qc.draw('mpl', filename=filename)"
   ]
  },
  {
   "cell_type": "code",
   "execution_count": 19,
   "id": "81fad717",
   "metadata": {},
   "outputs": [],
   "source": [
    "from qiskit.circuit.library.standard_gates import RXGate\n",
    "from qiskit.extensions.unitary import UnitaryGate\n",
    "from qiskit.quantum_info.operators import Operator\n",
    "\n",
    "size = np.ceil(np.log2(3**size_degree)).astype(int)\n",
    "theta = np.pi*.5/layers\n",
    "zeta = np.exp(-2*1j*theta)\n",
    "# interaction = RXGate(2*np.pi*t)\n",
    "interaction = UnitaryGate(\n",
    "    Operator([\n",
    "    [(zeta+1)/2, (-1*zeta+1)/2],\n",
    "    [(-1*zeta+1)/2, (zeta+1)/2]]),\n",
    "    label='U'\n",
    ")\n",
    "interaction = interaction.control()\n",
    "\n",
    "def tessellation1(size, interaction):\n",
    "    \"\"\"Staggered Quantum Walks tessellation 1\"\"\"\n",
    "    tessel1 = QuantumCircuit(size)\n",
    "\n",
    "    tessel1.mct([0,1], 2)    # flip 0011 <-> 0111 (with R.C.)\n",
    "\n",
    "    tessel1.mct([0,1,2], 3)    # shift +1 (with C.I.)\n",
    "    tessel1.mct([0,1], 2)\n",
    "    tessel1.cx(0, 1)\n",
    "\n",
    "    tessel1.cx(3, 0)    # flip 1000 <-> 1001\n",
    "\n",
    "    tessel1.cx(0, 1)    # shift -1 (with C.I.)\n",
    "    tessel1.mct([0,1], 2)\n",
    "    tessel1.mct([0,1,2], 3)\n",
    "    \n",
    "    tessel1.barrier()\n",
    "    \n",
    "    tessel1.x(3)    # apply the interaction\n",
    "    tessel1.append(interaction, [3,0])\n",
    "    tessel1.x(3)\n",
    "\n",
    "    tessel1.name = 'tessel_1'\n",
    "\n",
    "    return tessel1"
   ]
  },
  {
   "cell_type": "code",
   "execution_count": 21,
   "id": "7a99ba34",
   "metadata": {},
   "outputs": [
    {
     "data": {
      "image/png": "[encoded data removed]",
      "text/plain": [
       "<Figure size 808.997x264.88 with 1 Axes>"
      ]
     },
     "execution_count": 21,
     "metadata": {},
     "output_type": "execute_result"
    }
   ],
   "source": [
    "filename = 'State_mapping_Heisenberg.jpg'\n",
    "tessellation1(size, interaction).draw('mpl', filename=filename)"
   ]
  },
  {
   "cell_type": "code",
   "execution_count": null,
   "id": "b9201b53",
   "metadata": {},
   "outputs": [],
   "source": []
  }
 ],
 "metadata": {
  "kernelspec": {
   "display_name": "Python 3 (ipykernel)",
   "language": "python",
   "name": "python3"
  },
  "language_info": {
   "codemirror_mode": {
    "name": "ipython",
    "version": 3
   },
   "file_extension": ".py",
   "mimetype": "text/x-python",
   "name": "python",
   "nbconvert_exporter": "python",
   "pygments_lexer": "ipython3",
   "version": "3.9.12"
  }
 },
 "nbformat": 4,
 "nbformat_minor": 5
}
