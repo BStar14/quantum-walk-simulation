{
 "cells": [
  {
   "cell_type": "code",
   "execution_count": 1,
   "id": "bb21a154",
   "metadata": {},
   "outputs": [],
   "source": [
    "import numpy as np\n",
    "\n",
    "def Circ_Hamiltonian(size: int=8, gamma: float=1.) -> np.ndarray:\n",
    "    A = np.zeros((size, size))\n",
    "\n",
    "    for i in np.arange(size)-1:\n",
    "        A[i, i+1] = -1\n",
    "        A[i, i-1] = -1\n",
    "    \n",
    "    for i in range(size):\n",
    "        A[i, i] = -A.sum(axis=1)[i]\n",
    "\n",
    "    return gamma*A"
   ]
  },
  {
   "cell_type": "code",
   "execution_count": 2,
   "id": "07227892",
   "metadata": {},
   "outputs": [],
   "source": [
    "import numpy as np\n",
    "\n",
    "def Circ_MSD_weight(size: int=8) -> np.ndarray:\n",
    "    \n",
    "    weight = np.arange(np.ceil(size/2))\n",
    "    weight = np.append(weight, np.arange(np.floor(size/2), 0, -1))\n",
    "    weight = weight**2\n",
    "    \n",
    "    return weight.astype(int)"
   ]
  },
  {
   "cell_type": "code",
   "execution_count": 3,
   "id": "d63f66d4",
   "metadata": {},
   "outputs": [],
   "source": [
    "from matplotlib.colors import LinearSegmentedColormap\n",
    "\n",
    "cdict = {'red':   ((0.00, 0.00, 0.00), \n",
    "                   (0.20, 0.95, 0.95),\n",
    "                   (0.40, 0.95, 0.95),\n",
    "                   (0.60, 0.95, 0.95),\n",
    "                   (0.80, 0.95, 0.95),\n",
    "                   (1.00, 0.00, 0.00)),\n",
    "\n",
    "         'green': ((0.00, 0.00, 0.00), \n",
    "                   (0.20, 0.00, 0.00),\n",
    "                   (0.40, 0.50, 0.50),\n",
    "                   (0.60, 0.95, 0.95),\n",
    "                   (0.80, 0.95, 0.95),\n",
    "                   (1.00, 0.00, 0.00)),\n",
    "\n",
    "         'blue':  ((0.00, 0.00, 0.00), \n",
    "                   (0.20, 0.00, 0.00),\n",
    "                   (0.40, 0.30, 0.30),\n",
    "                   (0.60, 0.50, 0.50),\n",
    "                   (0.80, 0.95, 0.95),\n",
    "                   (1.00, 0.95, 0.95))\n",
    "          }\n",
    "\n",
    "cmap = LinearSegmentedColormap('star', cdict)"
   ]
  },
  {
   "cell_type": "code",
   "execution_count": 4,
   "id": "f2e804fe",
   "metadata": {},
   "outputs": [],
   "source": [
    "import networkx as nx\n",
    "import matplotlib.pyplot as plt\n",
    "\n",
    "def draw_distribution(G, pos, node_size=100, node_color=\"#1f78b4\", mapper=None, cmap=None, vmin=None, vmax=None, ax=None):\n",
    "    \n",
    "    if ax is None:\n",
    "        ax = plt.gca()\n",
    "    \n",
    "    nodes = nx.draw_networkx_nodes(G, pos, node_size=node_size, node_color=node_color, cmap=cmap, vmin=vmin, vmax=vmax, ax=ax)\n",
    "    edges = nx.draw_networkx_edges(G, pos, ax=ax)\n",
    "    cb = plt.colorbar(mapper, ax=ax, extend='min')\n",
    "    cb.ax.tick_params(labelsize=12)\n",
    "    ax.axis('off')\n",
    "    \n",
    "    return nodes"
   ]
  },
  {
   "cell_type": "code",
   "execution_count": 5,
   "id": "29da4b98",
   "metadata": {},
   "outputs": [],
   "source": [
    "import numpy as np\n",
    "import matplotlib.pyplot as plt\n",
    "from scipy.linalg import expm"
   ]
  },
  {
   "cell_type": "code",
   "execution_count": 6,
   "id": "a5bc7c8e",
   "metadata": {},
   "outputs": [],
   "source": [
    "def qw(Hamiltonian: np.ndarray, t: float=1.) -> np.ndarray:\n",
    "    \n",
    "    H = Hamiltonian\n",
    "    size = len(H)\n",
    "    psi0 = np.zeros(size)\n",
    "    psi0[0] = 1\n",
    "\n",
    "    return abs(np.matmul(expm(-1j*np.pi*H*t), psi0))**2"
   ]
  },
  {
   "cell_type": "code",
   "execution_count": 7,
   "id": "a6b2da42",
   "metadata": {},
   "outputs": [],
   "source": [
    "size = 32\n",
    "steps = 1500\n",
    "dt = .01\n",
    "t = np.linspace(dt, steps*dt, steps)\n",
    "gamma = 1.\n",
    "\n",
    "folder = 'exact/'\n",
    "video_folder = 'videos/'\n",
    "name = f'exact_circ_qw_ex_l{size}_{steps*dt:.1f}s_{steps:d}vly'"
   ]
  },
  {
   "cell_type": "code",
   "execution_count": 8,
   "id": "aaa13f6b",
   "metadata": {},
   "outputs": [
    {
     "name": "stdout",
     "output_type": "stream",
     "text": [
      "100% complete!\n"
     ]
    }
   ],
   "source": [
    "counts_list = np.zeros_like(t, dtype=object)\n",
    "per10 = steps/10\n",
    "\n",
    "for i in range(steps):\n",
    "    counts_list[i] = qw(Circ_Hamiltonian(size, gamma), t[i])\n",
    "    if i%per10==0:\n",
    "        print(f'{int(i/per10)*10}%', end='\\r')\n",
    "print(f'{100}% complete!')"
   ]
  },
  {
   "cell_type": "code",
   "execution_count": 9,
   "id": "b9ba6da7",
   "metadata": {},
   "outputs": [],
   "source": [
    "msd_list = np.zeros_like(t, dtype=object)\n",
    "msd_weight = Circ_MSD_weight(size)\n",
    "\n",
    "for i in range(steps):\n",
    "    msd_list[i] = (counts_list[i]*msd_weight).sum()"
   ]
  },
  {
   "cell_type": "code",
   "execution_count": 10,
   "id": "39786db2",
   "metadata": {},
   "outputs": [
    {
     "data": {
      "image/png": "[encoded data removed]",
      "text/plain": [
       "<Figure size 576x432 with 1 Axes>"
      ]
     },
     "metadata": {
      "needs_background": "light"
     },
     "output_type": "display_data"
    }
   ],
   "source": [
    "fig = plt.figure(figsize=(8, 6))\n",
    "plt.plot(t[10:], msd_list[10:])\n",
    "# plt.xscale(\"log\")\n",
    "# plt.yscale(\"log\")\n",
    "plt.show()"
   ]
  },
  {
   "cell_type": "code",
   "execution_count": 11,
   "id": "a8661e6a",
   "metadata": {},
   "outputs": [],
   "source": [
    "from matplotlib.colors import LogNorm\n",
    "from matplotlib.cm import ScalarMappable\n",
    "\n",
    "G = nx.from_numpy_array(abs(Circ_Hamiltonian(size, gamma)))\n",
    "G.remove_edges_from(nx.selfloop_edges(G))\n",
    "pos = nx.kamada_kawai_layout(G)\n",
    "\n",
    "vmin = 10**(-np.floor(np.log(size)))\n",
    "vmax = 1.\n",
    "mapper = ScalarMappable(norm=LogNorm(vmin=vmin, vmax=vmax), cmap=cmap)"
   ]
  },
  {
   "cell_type": "code",
   "execution_count": 12,
   "id": "5ae1cf50",
   "metadata": {},
   "outputs": [
    {
     "data": {
      "image/png": "[encoded data removed]",
      "text/plain": [
       "<Figure size 576x432 with 2 Axes>"
      ]
     },
     "metadata": {
      "needs_background": "light"
     },
     "output_type": "display_data"
    }
   ],
   "source": [
    "choose = 800\n",
    "\n",
    "dpi = 72\n",
    "fig, ax = plt.subplots(figsize=(8, 6), dpi=dpi)\n",
    "\n",
    "node_color = counts_list[choose]\n",
    "time_template = 't = %.2fs'\n",
    "\n",
    "nodes = draw_distribution(G, pos, ax=ax, node_color=mapper.to_rgba(node_color), mapper=mapper)\n",
    "time_text = ax.text(-1, 1, time_template % ((choose+1)*dt), fontsize=18)\n",
    "\n",
    "plt.show()"
   ]
  },
  {
   "cell_type": "code",
   "execution_count": 13,
   "id": "4301b43a",
   "metadata": {},
   "outputs": [],
   "source": [
    "import csv\n",
    "\n",
    "with open(f'{folder}{name}_msd_list.csv','w') as file :\n",
    "    write = csv.writer(file)\n",
    "    write.writerow(msd_list)"
   ]
  },
  {
   "cell_type": "code",
   "execution_count": 14,
   "id": "98ad7f68",
   "metadata": {},
   "outputs": [],
   "source": [
    "import pickle\n",
    "\n",
    "with open(f'{folder}{name}_counts_list.pkl','wb') as file :\n",
    "    pickle.dump(counts_list, file)"
   ]
  },
  {
   "cell_type": "code",
   "execution_count": 15,
   "id": "db6c646d",
   "metadata": {},
   "outputs": [
    {
     "name": "stdout",
     "output_type": "stream",
     "text": [
      "Saving frame 1500 of 1500 complete!\n"
     ]
    }
   ],
   "source": [
    "from matplotlib import animation\n",
    "\n",
    "dpi = 300\n",
    "fig, ax = plt.subplots(figsize=(8, 6), dpi=dpi)\n",
    "\n",
    "node_color = counts_list[0]\n",
    "time_template = 't = %.2fs'\n",
    "\n",
    "nodes = draw_distribution(G, pos, ax=ax, node_color=mapper.to_rgba(node_color), mapper=mapper)\n",
    "time_text = ax.text(-1, 1, time_template % 0., fontsize=18)\n",
    "\n",
    "def animate(i):\n",
    "    global nodes, time_text\n",
    "    nodes.remove()\n",
    "    time_text.remove()\n",
    "    node_color = counts_list[i]\n",
    "    nodes = nx.draw_networkx_nodes(G, pos, node_size=100, node_color=mapper.to_rgba(node_color))\n",
    "    time_text = ax.text(-1, 1, time_template % ((i+1)*dt), fontsize=18)\n",
    "    return 0\n",
    "\n",
    "ani = animation.FuncAnimation(fig, animate, frames=steps, interval=10)\n",
    "\n",
    "def progress_callback(i, n):\n",
    "    print(f'Saving frame {i} of {n}', end='\\r')\n",
    "    return 0\n",
    "\n",
    "writer = animation.writers['ffmpeg'](fps=100)\n",
    "ani.save(f'{video_folder}{name}_animation.mp4', writer=writer, dpi=dpi, progress_callback=progress_callback)\n",
    "del ani\n",
    "plt.close(fig)\n",
    "print(f'Saving frame {steps} of {steps} complete!')"
   ]
  },
  {
   "cell_type": "code",
   "execution_count": 6,
   "id": "cd90ef10",
   "metadata": {},
   "outputs": [],
   "source": [
    "def rw(Hamiltonian: np.ndarray, t: float=1.) -> np.ndarray:\n",
    "    \n",
    "    H = Hamiltonian\n",
    "    size = len(H)\n",
    "    psi0 = np.zeros(size)\n",
    "    psi0[0] = 1\n",
    "\n",
    "    return np.matmul(expm(-np.pi*H*t), psi0)"
   ]
  },
  {
   "cell_type": "code",
   "execution_count": 7,
   "id": "0ba4f8e3",
   "metadata": {},
   "outputs": [],
   "source": [
    "size = 32\n",
    "steps = 1500\n",
    "dt = .01\n",
    "t = np.linspace(dt, steps*dt, steps)\n",
    "gamma = 1.\n",
    "\n",
    "folder = 'exact/'\n",
    "video_folder = 'videos/'\n",
    "name = f'exact_circ_rw_ex_l{size}_{steps*dt:.1f}s_{steps:d}vly'"
   ]
  },
  {
   "cell_type": "code",
   "execution_count": 8,
   "id": "4a5a95f0",
   "metadata": {},
   "outputs": [
    {
     "name": "stdout",
     "output_type": "stream",
     "text": [
      "100% complete!\n"
     ]
    }
   ],
   "source": [
    "counts_list = np.zeros_like(t, dtype=object)\n",
    "per10 = steps/10\n",
    "\n",
    "for i in range(steps):\n",
    "    counts_list[i] = rw(Circ_Hamiltonian(size, gamma), t[i])\n",
    "    if i%per10==0:\n",
    "        print(f'{int(i/per10)*10}%', end='\\r')\n",
    "print(f'{100}% complete!')"
   ]
  },
  {
   "cell_type": "code",
   "execution_count": 9,
   "id": "0acef10a",
   "metadata": {},
   "outputs": [],
   "source": [
    "msd_list = np.zeros_like(t, dtype=object)\n",
    "msd_weight = Circ_MSD_weight(size)\n",
    "\n",
    "for i in range(steps):\n",
    "    msd_list[i] = (counts_list[i]*msd_weight).sum()"
   ]
  },
  {
   "cell_type": "code",
   "execution_count": 10,
   "id": "069ee10a",
   "metadata": {},
   "outputs": [
    {
     "data": {
      "image/png": "[encoded data removed]",
      "text/plain": [
       "<Figure size 576x432 with 1 Axes>"
      ]
     },
     "metadata": {
      "needs_background": "light"
     },
     "output_type": "display_data"
    }
   ],
   "source": [
    "fig = plt.figure(figsize=(8, 6))\n",
    "plt.plot(t[10:], msd_list[10:])\n",
    "# plt.xscale(\"log\")\n",
    "# plt.yscale(\"log\")\n",
    "plt.show()"
   ]
  },
  {
   "cell_type": "code",
   "execution_count": 11,
   "id": "2648d215",
   "metadata": {},
   "outputs": [],
   "source": [
    "from matplotlib.colors import LogNorm\n",
    "from matplotlib.cm import ScalarMappable\n",
    "\n",
    "G = nx.from_numpy_array(abs(Circ_Hamiltonian(size, gamma)))\n",
    "G.remove_edges_from(nx.selfloop_edges(G))\n",
    "pos = nx.kamada_kawai_layout(G)\n",
    "\n",
    "vmin = 10**(-np.floor(np.log(size)))\n",
    "vmax = 1.\n",
    "mapper = ScalarMappable(norm=LogNorm(vmin=vmin, vmax=vmax), cmap=cmap)"
   ]
  },
  {
   "cell_type": "code",
   "execution_count": 12,
   "id": "4bf86eb8",
   "metadata": {},
   "outputs": [
    {
     "data": {
      "image/png": "[encoded data removed]",
      "text/plain": [
       "<Figure size 576x432 with 2 Axes>"
      ]
     },
     "metadata": {
      "needs_background": "light"
     },
     "output_type": "display_data"
    }
   ],
   "source": [
    "choose = 800\n",
    "\n",
    "dpi = 72\n",
    "fig, ax = plt.subplots(figsize=(8, 6), dpi=dpi)\n",
    "\n",
    "node_color = counts_list[choose]\n",
    "time_template = 't = %.2fs'\n",
    "\n",
    "nodes = draw_distribution(G, pos, ax=ax, node_color=mapper.to_rgba(node_color), mapper=mapper)\n",
    "time_text = ax.text(-1, 1, time_template % ((choose+1)*dt), fontsize=18)\n",
    "\n",
    "plt.show()"
   ]
  },
  {
   "cell_type": "code",
   "execution_count": 23,
   "id": "f5bfc3e7",
   "metadata": {},
   "outputs": [],
   "source": [
    "import csv\n",
    "\n",
    "with open(f'{folder}{name}_msd_list.csv','w') as file :\n",
    "    write = csv.writer(file)\n",
    "    write.writerow(msd_list)"
   ]
  },
  {
   "cell_type": "code",
   "execution_count": 24,
   "id": "929e7573",
   "metadata": {},
   "outputs": [],
   "source": [
    "import pickle\n",
    "\n",
    "with open(f'{folder}{name}_counts_list.pkl','wb') as file :\n",
    "    pickle.dump(counts_list, file)"
   ]
  },
  {
   "cell_type": "code",
   "execution_count": 25,
   "id": "c4a642df",
   "metadata": {},
   "outputs": [
    {
     "name": "stdout",
     "output_type": "stream",
     "text": [
      "Saving frame 1500 of 1500 complete!\n"
     ]
    }
   ],
   "source": [
    "from matplotlib import animation\n",
    "\n",
    "dpi = 300\n",
    "fig, ax = plt.subplots(figsize=(8, 6), dpi=dpi)\n",
    "\n",
    "node_color = counts_list[0]\n",
    "time_template = 't = %.2fs'\n",
    "\n",
    "nodes = draw_distribution(G, pos, ax=ax, node_color=mapper.to_rgba(node_color), mapper=mapper)\n",
    "time_text = ax.text(-1, 1, time_template % 0., fontsize=18)\n",
    "\n",
    "def animate(i):\n",
    "    global nodes, time_text\n",
    "    nodes.remove()\n",
    "    time_text.remove()\n",
    "    node_color = counts_list[i]\n",
    "    nodes = nx.draw_networkx_nodes(G, pos, node_size=100, node_color=mapper.to_rgba(node_color))\n",
    "    time_text = ax.text(-1, 1, time_template % ((i+1)*dt), fontsize=18)\n",
    "    return 0\n",
    "\n",
    "ani = animation.FuncAnimation(fig, animate, frames=steps, interval=10)\n",
    "\n",
    "def progress_callback(i, n):\n",
    "    print(f'Saving frame {i} of {n}', end='\\r')\n",
    "    return 0\n",
    "\n",
    "writer = animation.writers['ffmpeg'](fps=100)\n",
    "ani.save(f'{video_folder}{name}_animation.mp4', writer=writer, dpi=dpi, progress_callback=progress_callback)\n",
    "del ani\n",
    "plt.close(fig)\n",
    "print(f'Saving frame {steps} of {steps} complete!')"
   ]
  },
  {
   "cell_type": "code",
   "execution_count": null,
   "id": "afd43146",
   "metadata": {},
   "outputs": [],
   "source": []
  }
 ],
 "metadata": {
  "kernelspec": {
   "display_name": "Python 3 (ipykernel)",
   "language": "python",
   "name": "python3"
  },
  "language_info": {
   "codemirror_mode": {
    "name": "ipython",
    "version": 3
   },
   "file_extension": ".py",
   "mimetype": "text/x-python",
   "name": "python",
   "nbconvert_exporter": "python",
   "pygments_lexer": "ipython3",
   "version": "3.9.12"
  }
 },
 "nbformat": 4,
 "nbformat_minor": 5
}
