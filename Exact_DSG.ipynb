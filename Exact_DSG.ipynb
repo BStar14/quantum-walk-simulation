{
 "cells": [
  {
   "cell_type": "code",
   "execution_count": 1,
   "id": "b37d3ae4",
   "metadata": {},
   "outputs": [],
   "source": [
    "import numpy as np\n",
    "\n",
    "def DSG_Hamiltonian(order: int=2, gamma: float=1.) -> np.ndarray:\n",
    "    \n",
    "    size = 3**order\n",
    "    A = np.zeros((size, size))\n",
    "    \n",
    "    for i in [n+1 for n in range(order)]:\n",
    "        for j in range(int(size/(3**i))):\n",
    "            a1 = np.floor((j*9 + 0*3 + 1) * 3**(i-2)).astype(int)\n",
    "            a2 = np.floor((j*9 + 1*3 + 2) * 3**(i-2)).astype(int)\n",
    "            b1 = np.floor((j*9 + 1*3 + 1) * 3**(i-2)).astype(int)\n",
    "            b2 = np.floor((j*9 + 2*3 + 2) * 3**(i-2)).astype(int)\n",
    "            c1 = np.floor((j*9 + 2*3 + 1) * 3**(i-2)).astype(int)\n",
    "            c2 = np.floor((j*9 + 0*3 + 2) * 3**(i-2)).astype(int)\n",
    "            A[a1, a2] = -1\n",
    "            A[a2, a1] = -1\n",
    "            A[b1, b2] = -1\n",
    "            A[b2, b1] = -1\n",
    "            A[c1, c2] = -1\n",
    "            A[c2, c1] = -1\n",
    "    \n",
    "    for i in range(size):\n",
    "        A[i, i] = -A.sum(axis=1)[i]\n",
    "    \n",
    "    return gamma*A"
   ]
  },
  {
   "cell_type": "code",
   "execution_count": 2,
   "id": "67671b23",
   "metadata": {},
   "outputs": [],
   "source": [
    "import numpy as np\n",
    "\n",
    "def DSG_MSD_weight(order: int=3) -> np.ndarray:\n",
    "    \n",
    "    size = 3**order\n",
    "    weight = np.array([0,1,1,\n",
    "                       9,7,4,\n",
    "                       9,4,7,\n",
    "                       49,43,36,\n",
    "                       37,28,39,\n",
    "                       16,25,21,\n",
    "                       49,36,43,\n",
    "                       16,21,25,\n",
    "                       37,39,28,\n",
    "                       225,211,196,\n",
    "                       183,170,197,\n",
    "                       144,169,157,\n",
    "                       127,118,141,\n",
    "                       100,121,109,\n",
    "                       169,155,144,\n",
    "                       64,81,73,\n",
    "                       121,111,100,\n",
    "                       91,82,101,\n",
    "                       225,196,211,\n",
    "                       144,157,169,\n",
    "                       183,197,170,\n",
    "                       64,73,81,\n",
    "                       91,101,82,\n",
    "                       121,100,111,\n",
    "                       127,141,118,\n",
    "                       169,144,155,\n",
    "                       100,109,121])\n",
    "    \n",
    "    return weight[:size]"
   ]
  },
  {
   "cell_type": "code",
   "execution_count": 3,
   "id": "8416d53f",
   "metadata": {},
   "outputs": [],
   "source": [
    "from matplotlib.colors import LinearSegmentedColormap\n",
    "\n",
    "cdict = {'red':   ((0.00, 0.00, 0.00), \n",
    "                   (0.20, 0.95, 0.95),\n",
    "                   (0.40, 0.95, 0.95),\n",
    "                   (0.60, 0.95, 0.95),\n",
    "                   (0.80, 0.95, 0.95),\n",
    "                   (1.00, 0.00, 0.00)),\n",
    "\n",
    "         'green': ((0.00, 0.00, 0.00), \n",
    "                   (0.20, 0.00, 0.00),\n",
    "                   (0.40, 0.50, 0.50),\n",
    "                   (0.60, 0.95, 0.95),\n",
    "                   (0.80, 0.95, 0.95),\n",
    "                   (1.00, 0.00, 0.00)),\n",
    "\n",
    "         'blue':  ((0.00, 0.00, 0.00), \n",
    "                   (0.20, 0.00, 0.00),\n",
    "                   (0.40, 0.30, 0.30),\n",
    "                   (0.60, 0.50, 0.50),\n",
    "                   (0.80, 0.95, 0.95),\n",
    "                   (1.00, 0.95, 0.95))\n",
    "          }\n",
    "\n",
    "cmap = LinearSegmentedColormap('star', cdict)"
   ]
  },
  {
   "cell_type": "code",
   "execution_count": 4,
   "id": "4422266f",
   "metadata": {},
   "outputs": [],
   "source": [
    "import networkx as nx\n",
    "import matplotlib.pyplot as plt\n",
    "\n",
    "def draw_distribution(G, pos, node_size=100, node_color=\"#1f78b4\", mapper=None, cmap=None, vmin=None, vmax=None, ax=None):\n",
    "    \n",
    "    if ax is None:\n",
    "        ax = plt.gca()\n",
    "    \n",
    "    nodes = nx.draw_networkx_nodes(G, pos, node_size=node_size, node_color=node_color, cmap=cmap, vmin=vmin, vmax=vmax, ax=ax)\n",
    "    edges = nx.draw_networkx_edges(G, pos, ax=ax)\n",
    "    cb = plt.colorbar(mapper, ax=ax, extend='min')\n",
    "    cb.ax.tick_params(labelsize=12)\n",
    "    ax.axis('off')\n",
    "    \n",
    "    return nodes"
   ]
  },
  {
   "cell_type": "code",
   "execution_count": 5,
   "id": "6d00daa8",
   "metadata": {},
   "outputs": [],
   "source": [
    "import numpy as np\n",
    "import matplotlib.pyplot as plt\n",
    "from scipy.linalg import expm"
   ]
  },
  {
   "cell_type": "code",
   "execution_count": 21,
   "id": "8f03ddbc",
   "metadata": {},
   "outputs": [],
   "source": [
    "def qw(Hamiltonian: np.ndarray, t: float=1.) -> np.ndarray:\n",
    "    \n",
    "    H = Hamiltonian\n",
    "    size = len(H)\n",
    "    psi0 = np.zeros(size)\n",
    "    psi0[0] = 1\n",
    "\n",
    "    return abs(np.matmul(expm(-1j*np.pi*H*t), psi0))**2"
   ]
  },
  {
   "cell_type": "code",
   "execution_count": 22,
   "id": "512c75fd",
   "metadata": {},
   "outputs": [],
   "source": [
    "order = 2\n",
    "steps = 300\n",
    "dt = .01\n",
    "t = np.linspace(dt, steps*dt, steps)\n",
    "gamma = 1.\n",
    "\n",
    "folder = 'exact/'\n",
    "video_folder = 'videos/'\n",
    "name = f'exact_dsg_qw_ex_o{order}_{steps*dt:.1f}s_{steps:d}vly'"
   ]
  },
  {
   "cell_type": "code",
   "execution_count": 23,
   "id": "9318016b",
   "metadata": {},
   "outputs": [
    {
     "name": "stdout",
     "output_type": "stream",
     "text": [
      "100% complete!\n"
     ]
    }
   ],
   "source": [
    "counts_list = np.zeros_like(t, dtype=object)\n",
    "per10 = steps/10\n",
    "\n",
    "for i in range(steps):\n",
    "    counts_list[i] = qw(DSG_Hamiltonian(order, gamma), t[i])\n",
    "    if i%per10==0:\n",
    "        print(f'{int(i/per10)*10}%', end='\\r')\n",
    "print(f'{100}% complete!')"
   ]
  },
  {
   "cell_type": "code",
   "execution_count": 24,
   "id": "46641246",
   "metadata": {},
   "outputs": [],
   "source": [
    "msd_weight = DSG_MSD_weight(order)\n",
    "msd_list = np.zeros_like(t, dtype=object)\n",
    "\n",
    "for i in range(steps):\n",
    "    msd_list[i] = (counts_list[i]*msd_weight).sum()"
   ]
  },
  {
   "cell_type": "code",
   "execution_count": 25,
   "id": "4daa15df",
   "metadata": {},
   "outputs": [
    {
     "data": {
      "image/png": "[encoded data removed]",
      "text/plain": [
       "<Figure size 576x432 with 1 Axes>"
      ]
     },
     "metadata": {
      "needs_background": "light"
     },
     "output_type": "display_data"
    }
   ],
   "source": [
    "fig = plt.figure(figsize=(8, 6))\n",
    "plt.plot(t[10:], msd_list[10:])\n",
    "# plt.xscale(\"log\")\n",
    "# plt.yscale(\"log\")\n",
    "plt.show()"
   ]
  },
  {
   "cell_type": "code",
   "execution_count": 26,
   "id": "0306cdb2",
   "metadata": {},
   "outputs": [],
   "source": [
    "from matplotlib.colors import LogNorm\n",
    "from matplotlib.cm import ScalarMappable\n",
    "\n",
    "G = nx.from_numpy_array(abs(DSG_Hamiltonian(order, gamma)))\n",
    "G.remove_edges_from(nx.selfloop_edges(G))\n",
    "pos = nx.kamada_kawai_layout(G)\n",
    "\n",
    "# vmin = 10**(1-order)\n",
    "vmin = .5*10**(1-order)\n",
    "vmax = 1.\n",
    "mapper = ScalarMappable(norm=LogNorm(vmin=vmin, vmax=vmax), cmap=cmap)"
   ]
  },
  {
   "cell_type": "code",
   "execution_count": 27,
   "id": "d17de61a",
   "metadata": {},
   "outputs": [
    {
     "data": {
      "image/png": "[encoded data removed]",
      "text/plain": [
       "<Figure size 576x432 with 2 Axes>"
      ]
     },
     "metadata": {
      "needs_background": "light"
     },
     "output_type": "display_data"
    }
   ],
   "source": [
    "choose = 49\n",
    "\n",
    "dpi = 72\n",
    "fig, ax = plt.subplots(figsize=(8, 6), dpi=dpi)\n",
    "\n",
    "node_color = counts_list[choose]\n",
    "time_template = 't = %.2fs'\n",
    "\n",
    "nodes = draw_distribution(G, pos, ax=ax, node_color=mapper.to_rgba(node_color), mapper=mapper)\n",
    "time_text = ax.text(-1, 1, time_template % ((choose+1)*dt), fontsize=18)\n",
    "\n",
    "plt.show()"
   ]
  },
  {
   "cell_type": "code",
   "execution_count": 9,
   "id": "2f13482f",
   "metadata": {},
   "outputs": [],
   "source": [
    "import csv\n",
    "\n",
    "with open(f'{folder}{name}_msd_list.csv','w') as file :\n",
    "    write = csv.writer(file)\n",
    "    write.writerow(msd_list)"
   ]
  },
  {
   "cell_type": "code",
   "execution_count": 10,
   "id": "e7410474",
   "metadata": {},
   "outputs": [],
   "source": [
    "import pickle\n",
    "\n",
    "with open(f'{folder}{name}_counts_list.pkl','wb') as file :\n",
    "    pickle.dump(counts_list, file)"
   ]
  },
  {
   "cell_type": "code",
   "execution_count": 15,
   "id": "e287567d",
   "metadata": {},
   "outputs": [
    {
     "name": "stdout",
     "output_type": "stream",
     "text": [
      "Saving frame 300 of 300 complete!\n"
     ]
    }
   ],
   "source": [
    "from matplotlib import animation\n",
    "\n",
    "dpi = 300\n",
    "playtime = 15\n",
    "interval = int(playtime*1000/steps)\n",
    "fps = int(steps/playtime)\n",
    "fig, ax = plt.subplots(figsize=(8, 6), dpi=dpi)\n",
    "\n",
    "node_color = counts_list[0]\n",
    "time_template = 't = %.2fs'\n",
    "\n",
    "nodes = draw_distribution(G, pos, ax=ax, node_color=mapper.to_rgba(node_color), mapper=mapper)\n",
    "time_text = ax.text(-1, 1, time_template % 0., fontsize=18)\n",
    "\n",
    "def animate(i):\n",
    "    global nodes, time_text\n",
    "    nodes.remove()\n",
    "    time_text.remove()\n",
    "    node_color = counts_list[i]\n",
    "    nodes = nx.draw_networkx_nodes(G, pos, node_size=100, node_color=mapper.to_rgba(node_color))\n",
    "    time_text = ax.text(-1, 1, time_template % ((i+1)*dt), fontsize=18)\n",
    "    return 0\n",
    "\n",
    "ani = animation.FuncAnimation(fig, animate, frames=steps, interval=interval)\n",
    "\n",
    "def progress_callback(i, n):\n",
    "    print(f'Saving frame {i} of {n}', end='\\r')\n",
    "    return 0\n",
    "\n",
    "writer = animation.writers['ffmpeg'](fps=fps)\n",
    "ani.save(f'{video_folder}{name}_animation.mp4', writer=writer, dpi=dpi, progress_callback=progress_callback)\n",
    "del ani\n",
    "plt.close(fig)\n",
    "print(f'Saving frame {steps} of {steps} complete!')"
   ]
  },
  {
   "cell_type": "code",
   "execution_count": 6,
   "id": "8cebb74a",
   "metadata": {},
   "outputs": [],
   "source": [
    "def rw(Hamiltonian: np.ndarray, t: float=1.) -> np.ndarray:\n",
    "    \n",
    "    H = Hamiltonian\n",
    "    size = len(H)\n",
    "    psi0 = np.zeros(size)\n",
    "    psi0[0] = 1\n",
    "\n",
    "    return np.matmul(expm(-np.pi*H*t), psi0)"
   ]
  },
  {
   "cell_type": "code",
   "execution_count": 7,
   "id": "c5bd1e94",
   "metadata": {},
   "outputs": [],
   "source": [
    "order = 2\n",
    "steps = 1500\n",
    "dt = .01\n",
    "t = np.linspace(dt, steps*dt, steps)\n",
    "gamma = 1.\n",
    "\n",
    "folder = 'exact/'\n",
    "video_folder = 'videos/'\n",
    "name = f'exact_dsg_rw_ex_o{order}_{steps*dt:.1f}s_{steps:d}vly'"
   ]
  },
  {
   "cell_type": "code",
   "execution_count": 8,
   "id": "d93a89f7",
   "metadata": {},
   "outputs": [
    {
     "name": "stdout",
     "output_type": "stream",
     "text": [
      "100% complete!\n"
     ]
    }
   ],
   "source": [
    "counts_list = np.zeros_like(t, dtype=object)\n",
    "per10 = steps/10\n",
    "\n",
    "for i in range(steps):\n",
    "    counts_list[i] = rw(DSG_Hamiltonian(order, gamma), t[i])\n",
    "    if i%per10==0:\n",
    "        print(f'{int(i/per10)*10}%', end='\\r')\n",
    "print(f'{100}% complete!')"
   ]
  },
  {
   "cell_type": "code",
   "execution_count": 9,
   "id": "ee5d1a12",
   "metadata": {},
   "outputs": [],
   "source": [
    "msd_weight = DSG_MSD_weight(order)\n",
    "msd_list = np.zeros_like(t, dtype=object)\n",
    "\n",
    "for i in range(steps):\n",
    "    msd_list[i] = (counts_list[i]*msd_weight).sum()"
   ]
  },
  {
   "cell_type": "code",
   "execution_count": 10,
   "id": "2a2ad5a8",
   "metadata": {},
   "outputs": [
    {
     "data": {
      "image/png": "[encoded data removed]",
      "text/plain": [
       "<Figure size 576x432 with 1 Axes>"
      ]
     },
     "metadata": {
      "needs_background": "light"
     },
     "output_type": "display_data"
    }
   ],
   "source": [
    "fig = plt.figure(figsize=(8, 6))\n",
    "plt.plot(t[10:], msd_list[10:])\n",
    "# plt.xscale(\"log\")\n",
    "# plt.yscale(\"log\")\n",
    "plt.show()"
   ]
  },
  {
   "cell_type": "code",
   "execution_count": 11,
   "id": "bdc0aae9",
   "metadata": {},
   "outputs": [],
   "source": [
    "from matplotlib.colors import LogNorm\n",
    "from matplotlib.cm import ScalarMappable\n",
    "\n",
    "G = nx.from_numpy_array(abs(DSG_Hamiltonian(order, gamma)))\n",
    "G.remove_edges_from(nx.selfloop_edges(G))\n",
    "pos = nx.kamada_kawai_layout(G)\n",
    "\n",
    "vmin = 10**(1-order)\n",
    "vmax = 1.\n",
    "mapper = ScalarMappable(norm=LogNorm(vmin=vmin, vmax=vmax), cmap=cmap)"
   ]
  },
  {
   "cell_type": "code",
   "execution_count": 12,
   "id": "9ebd26c2",
   "metadata": {},
   "outputs": [
    {
     "data": {
      "image/png": "[encoded data removed]",
      "text/plain": [
       "<Figure size 576x432 with 2 Axes>"
      ]
     },
     "metadata": {
      "needs_background": "light"
     },
     "output_type": "display_data"
    }
   ],
   "source": [
    "choose = 800\n",
    "\n",
    "dpi = 72\n",
    "fig, ax = plt.subplots(figsize=(8, 6), dpi=dpi)\n",
    "\n",
    "node_color = counts_list[choose]\n",
    "time_template = 't = %.2fs'\n",
    "\n",
    "nodes = draw_distribution(G, pos, ax=ax, node_color=mapper.to_rgba(node_color), mapper=mapper)\n",
    "time_text = ax.text(-1, 1, time_template % ((choose+1)*dt), fontsize=18)\n",
    "\n",
    "plt.show()"
   ]
  },
  {
   "cell_type": "code",
   "execution_count": 13,
   "id": "0be714b1",
   "metadata": {},
   "outputs": [],
   "source": [
    "import csv\n",
    "\n",
    "with open(f'{folder}{name}_msd_list.csv','w') as file :\n",
    "    write = csv.writer(file)\n",
    "    write.writerow(msd_list)"
   ]
  },
  {
   "cell_type": "code",
   "execution_count": 14,
   "id": "55db8582",
   "metadata": {},
   "outputs": [],
   "source": [
    "import pickle\n",
    "\n",
    "with open(f'{folder}{name}_counts_list.pkl','wb') as file :\n",
    "    pickle.dump(counts_list, file)"
   ]
  },
  {
   "cell_type": "code",
   "execution_count": 13,
   "id": "08094cb4",
   "metadata": {},
   "outputs": [
    {
     "name": "stdout",
     "output_type": "stream",
     "text": [
      "Saving frame 1500 of 1500 complete!\n"
     ]
    }
   ],
   "source": [
    "from matplotlib import animation\n",
    "\n",
    "dpi = 300\n",
    "playtime = 15\n",
    "interval = int(playtime*1000/steps)\n",
    "fps = int(steps/playtime)\n",
    "fig, ax = plt.subplots(figsize=(8, 6), dpi=dpi)\n",
    "\n",
    "node_color = counts_list[0]\n",
    "time_template = 't = %.2fs'\n",
    "\n",
    "nodes = draw_distribution(G, pos, ax=ax, node_color=mapper.to_rgba(node_color), mapper=mapper)\n",
    "time_text = ax.text(-1, 1, time_template % 0., fontsize=18)\n",
    "\n",
    "def animate(i):\n",
    "    global nodes, time_text\n",
    "    nodes.remove()\n",
    "    time_text.remove()\n",
    "    node_color = counts_list[i]\n",
    "    nodes = nx.draw_networkx_nodes(G, pos, node_size=100, node_color=mapper.to_rgba(node_color))\n",
    "    time_text = ax.text(-1, 1, time_template % ((i+1)*dt), fontsize=18)\n",
    "    return 0\n",
    "\n",
    "ani = animation.FuncAnimation(fig, animate, frames=steps, interval=interval)\n",
    "\n",
    "def progress_callback(i, n):\n",
    "    print(f'Saving frame {i} of {n}', end='\\r')\n",
    "    return 0\n",
    "\n",
    "writer = animation.writers['ffmpeg'](fps=fps)\n",
    "ani.save(f'{video_folder}{name}_animation.mp4', writer=writer, dpi=dpi, progress_callback=progress_callback)\n",
    "del ani\n",
    "plt.close(fig)\n",
    "print(f'Saving frame {steps} of {steps} complete!')"
   ]
  },
  {
   "cell_type": "code",
   "execution_count": null,
   "id": "2c00d47f",
   "metadata": {},
   "outputs": [],
   "source": []
  }
 ],
 "metadata": {
  "kernelspec": {
   "display_name": "Python 3 (ipykernel)",
   "language": "python",
   "name": "python3"
  },
  "language_info": {
   "codemirror_mode": {
    "name": "ipython",
    "version": 3
   },
   "file_extension": ".py",
   "mimetype": "text/x-python",
   "name": "python",
   "nbconvert_exporter": "python",
   "pygments_lexer": "ipython3",
   "version": "3.9.12"
  }
 },
 "nbformat": 4,
 "nbformat_minor": 5
}
