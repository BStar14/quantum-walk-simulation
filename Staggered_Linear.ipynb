{
 "cells": [
  {
   "cell_type": "markdown",
   "id": "432a7837",
   "metadata": {},
   "source": [
    "# Staggered Quantum Walks Simulation on Linear Graphs\n",
    "\n",
    "> By BoSeong Kim @ Yonsei University (boseong14@gmail.com)\n",
    "\n",
    "This notebook makes an example of how we could make staggered quantum walks based on the nth root of SWAP operation.  \n",
    "It requires the same number of qubits, each corresponding to a single node, but it significantly shortens the circuit depth, especially for the cases when the graph is quite comprehensive."
   ]
  },
  {
   "cell_type": "code",
   "execution_count": 1,
   "id": "deb483c4-05f7-4286-8e6d-573c4283ef58",
   "metadata": {},
   "outputs": [],
   "source": [
    "import numpy as np\n",
    "from qiskit import QuantumCircuit\n",
    "from qiskit.quantum_info.operators import Operator\n",
    "\n",
    "def staggered_linear_circuit(size: int = 5, t: float = 1., layers: int = 1) -> QuantumCircuit:\n",
    "    \"\"\"\n",
    "    Given size, time t, and the number of layers, constructs the corresponding staggered linear quantum walk circuit.\n",
    "    Args:\n",
    "        size: Number of nodes\n",
    "        t: Total evolving time\n",
    "        layers: Number of layers\n",
    "    Returns:\n",
    "        QuantumCircuit\n",
    "    \"\"\"\n",
    "    \n",
    "    theta = t*np.pi/layers\n",
    "    zeta = complex(np.cos(theta), np.sin(theta))\n",
    "    node_list = np.arange(size)\n",
    "\n",
    "    nrt_swap = Operator([\n",
    "        [1, 0, 0, 0],\n",
    "        [0, 1/2+zeta/2, 1/2-zeta/2, 0],\n",
    "        [0, 1/2-zeta/2, 1/2+zeta/2, 0],\n",
    "        [0, 0, 0, 1]\n",
    "    ])\n",
    "\n",
    "    simulation = QuantumCircuit(size, size)\n",
    "\n",
    "    # Start at the center\n",
    "    simulation.x(int(size/2))\n",
    "\n",
    "    for i in range(layers):\n",
    "        \n",
    "        simulation.barrier()\n",
    "        \n",
    "        # Staggered Quantum Walks to right\n",
    "        for j in node_list[:-1:2]:\n",
    "            simulation.unitary(nrt_swap, [j, node_list[j+1]], label='nrt_swap')\n",
    "\n",
    "        # Staggered Quantum Walks to left\n",
    "        for j in node_list[1::2]:\n",
    "            simulation.unitary(nrt_swap, [j, node_list[j+1]], label='nrt_swap')\n",
    "    \n",
    "    simulation.barrier()\n",
    "    \n",
    "    for i in node_list:\n",
    "        simulation.measure(i, i)\n",
    "       \n",
    "    return simulation"
   ]
  },
  {
   "cell_type": "code",
   "execution_count": 2,
   "id": "c41e0556-1a6c-4c88-9478-578934d72c5a",
   "metadata": {},
   "outputs": [],
   "source": [
    "size = 5\n",
    "t = 0.3\n",
    "layers = 10\n",
    "shots = 4000\n",
    "\n",
    "circ = staggered_linear_circuit(size, t, layers)\n",
    "# circ.draw('mpl')"
   ]
  },
  {
   "cell_type": "code",
   "execution_count": 3,
   "id": "900cc654-ea45-405c-8116-36e78c4fe086",
   "metadata": {},
   "outputs": [
    {
     "data": {
      "image/png": "[encoded data removed]",
      "text/plain": [
       "<Figure size 1080x432 with 1 Axes>"
      ]
     },
     "execution_count": 3,
     "metadata": {},
     "output_type": "execute_result"
    }
   ],
   "source": [
    "# importing Qiskit\n",
    "from qiskit import Aer, transpile\n",
    "\n",
    "# import basic plot tools\n",
    "from qiskit.visualization import plot_histogram\n",
    "\n",
    "# use local simulator\n",
    "aer_sim = Aer.get_backend('aer_simulator')\n",
    "transpiled_circ = transpile(circ, aer_sim, optimization_level=2)\n",
    "job = aer_sim.run(transpiled_circ, shots=shots)\n",
    "results = job.result()\n",
    "counts = results.get_counts()\n",
    "\n",
    "plot_histogram(counts, figsize=(15,6))"
   ]
  },
  {
   "cell_type": "code",
   "execution_count": null,
   "id": "389129b8-104d-4303-95c0-854d77f4ecb8",
   "metadata": {},
   "outputs": [],
   "source": []
  }
 ],
 "metadata": {
  "kernelspec": {
   "display_name": "Python 3 (ipykernel)",
   "language": "python",
   "name": "python3"
  },
  "language_info": {
   "codemirror_mode": {
    "name": "ipython",
    "version": 3
   },
   "file_extension": ".py",
   "mimetype": "text/x-python",
   "name": "python",
   "nbconvert_exporter": "python",
   "pygments_lexer": "ipython3",
   "version": "3.9.7"
  },
  "widgets": {
   "application/vnd.jupyter.widget-state+json": {
    "state": {
     "01d69465d8f9481584ceda746c76edba": {
      "model_module": "@jupyter-widgets/controls",
      "model_module_version": "1.5.0",
      "model_name": "DescriptionStyleModel",
      "state": {
       "description_width": ""
      }
     },
     "19484f176a6f45aba166d71159fd797a": {
      "model_module": "@jupyter-widgets/controls",
      "model_module_version": "1.5.0",
      "model_name": "DescriptionStyleModel",
      "state": {
       "description_width": ""
      }
     },
     "19daaf2bebc0475a957cc185f8bab68a": {
      "model_module": "@jupyter-widgets/base",
      "model_module_version": "1.2.0",
      "model_name": "LayoutModel",
      "state": {
       "width": "95px"
      }
     },
     "1dea78b15e1f446fbf089a00466c03b8": {
      "model_module": "@jupyter-widgets/controls",
      "model_module_version": "1.5.0",
      "model_name": "HTMLModel",
      "state": {
       "layout": "IPY_MODEL_4d742d5261164238ad0f5b574054dad8",
       "style": "IPY_MODEL_bf07d51df59443aca17a73fee94fba85",
       "value": "<p style='font-family: IBM Plex Sans, Arial, Helvetica, sans-serif; font-size: 20px; font-weight: medium;'>Circuit Properties</p>"
      }
     },
     "1ec8410c3c1045ac8350d923787c1b18": {
      "model_module": "@jupyter-widgets/controls",
      "model_module_version": "1.5.0",
      "model_name": "ButtonStyleModel",
      "state": {}
     },
     "241e8b31568145318ffc998ca591ca5d": {
      "model_module": "@jupyter-widgets/controls",
      "model_module_version": "1.5.0",
      "model_name": "DescriptionStyleModel",
      "state": {
       "description_width": ""
      }
     },
     "2861ca38946b437ba41f3edb16a0b378": {
      "model_module": "@jupyter-widgets/controls",
      "model_module_version": "1.5.0",
      "model_name": "GridBoxModel",
      "state": {
       "children": [
        "IPY_MODEL_29ac1eccee5a4e06b1bf9fcec7d34fe2"
       ],
       "layout": "IPY_MODEL_8e530bd67cbd4eeca0baa7a685af9b90"
      }
     },
     "29ac1eccee5a4e06b1bf9fcec7d34fe2": {
      "model_module": "@jupyter-widgets/controls",
      "model_module_version": "1.5.0",
      "model_name": "ButtonModel",
      "state": {
       "button_style": "primary",
       "description": "Clear",
       "layout": "IPY_MODEL_ffe5f981baea4949856a2d775950e9ad",
       "style": "IPY_MODEL_1ec8410c3c1045ac8350d923787c1b18"
      }
     },
     "2e8720b5b0cc404ab6076ea0a12f086b": {
      "model_module": "@jupyter-widgets/controls",
      "model_module_version": "1.5.0",
      "model_name": "HTMLModel",
      "state": {
       "layout": "IPY_MODEL_d8495379fe214683adc7e93f6e7e76fe",
       "style": "IPY_MODEL_19484f176a6f45aba166d71159fd797a",
       "value": "<h5>Message</h5>"
      }
     },
     "41ebecc6db114812b930d00edb92fd69": {
      "model_module": "@jupyter-widgets/controls",
      "model_module_version": "1.5.0",
      "model_name": "DescriptionStyleModel",
      "state": {
       "description_width": ""
      }
     },
     "4d742d5261164238ad0f5b574054dad8": {
      "model_module": "@jupyter-widgets/base",
      "model_module_version": "1.2.0",
      "model_name": "LayoutModel",
      "state": {
       "margin": "0px 0px 10px 0px"
      }
     },
     "887f75f3530b4837963fdb476389a8b6": {
      "model_module": "@jupyter-widgets/controls",
      "model_module_version": "1.5.0",
      "model_name": "HBoxModel",
      "state": {
       "children": [
        "IPY_MODEL_bbfed14cc0184188a3e006448a1d1748",
        "IPY_MODEL_af54d8074193486d9d20cc0c6b9b1291",
        "IPY_MODEL_8def2c4568584cdbbee76eb5f45dd68d",
        "IPY_MODEL_ab0aaf1da5384000ab84678f30567dd9",
        "IPY_MODEL_2e8720b5b0cc404ab6076ea0a12f086b"
       ],
       "layout": "IPY_MODEL_a0b78912d4df411f96bd10dda98cf632"
      }
     },
     "8def2c4568584cdbbee76eb5f45dd68d": {
      "model_module": "@jupyter-widgets/controls",
      "model_module_version": "1.5.0",
      "model_name": "HTMLModel",
      "state": {
       "layout": "IPY_MODEL_19daaf2bebc0475a957cc185f8bab68a",
       "style": "IPY_MODEL_241e8b31568145318ffc998ca591ca5d",
       "value": "<h5>Status</h5>"
      }
     },
     "8e530bd67cbd4eeca0baa7a685af9b90": {
      "model_module": "@jupyter-widgets/base",
      "model_module_version": "1.2.0",
      "model_name": "LayoutModel",
      "state": {
       "grid_template_areas": "\n                                       \". . . . right \"\n                                        ",
       "grid_template_columns": "20% 20% 20% 20% 20%",
       "width": "100%"
      }
     },
     "924bf0b88ad84241a09b28ed2bc6192c": {
      "model_module": "@jupyter-widgets/base",
      "model_module_version": "1.2.0",
      "model_name": "LayoutModel",
      "state": {
       "width": "145px"
      }
     },
     "a0b78912d4df411f96bd10dda98cf632": {
      "model_module": "@jupyter-widgets/base",
      "model_module_version": "1.2.0",
      "model_name": "LayoutModel",
      "state": {
       "margin": "0px 0px 0px 37px",
       "width": "600px"
      }
     },
     "a7b112f1deff4faa9b6c54b1690814e7": {
      "model_module": "@jupyter-widgets/base",
      "model_module_version": "1.2.0",
      "model_name": "LayoutModel",
      "state": {
       "width": "190px"
      }
     },
     "ab0aaf1da5384000ab84678f30567dd9": {
      "model_module": "@jupyter-widgets/controls",
      "model_module_version": "1.5.0",
      "model_name": "HTMLModel",
      "state": {
       "layout": "IPY_MODEL_eafa20fc0eb6452db33558e5ad53e576",
       "style": "IPY_MODEL_c7a2c1da6c3c476e8826314a4211af4c",
       "value": "<h5>Queue</h5>"
      }
     },
     "af54d8074193486d9d20cc0c6b9b1291": {
      "model_module": "@jupyter-widgets/controls",
      "model_module_version": "1.5.0",
      "model_name": "HTMLModel",
      "state": {
       "layout": "IPY_MODEL_924bf0b88ad84241a09b28ed2bc6192c",
       "style": "IPY_MODEL_41ebecc6db114812b930d00edb92fd69",
       "value": "<h5>Backend</h5>"
      }
     },
     "bbfed14cc0184188a3e006448a1d1748": {
      "model_module": "@jupyter-widgets/controls",
      "model_module_version": "1.5.0",
      "model_name": "HTMLModel",
      "state": {
       "layout": "IPY_MODEL_a7b112f1deff4faa9b6c54b1690814e7",
       "style": "IPY_MODEL_01d69465d8f9481584ceda746c76edba",
       "value": "<h5>Job ID</h5>"
      }
     },
     "bf07d51df59443aca17a73fee94fba85": {
      "model_module": "@jupyter-widgets/controls",
      "model_module_version": "1.5.0",
      "model_name": "DescriptionStyleModel",
      "state": {
       "description_width": ""
      }
     },
     "c7a2c1da6c3c476e8826314a4211af4c": {
      "model_module": "@jupyter-widgets/controls",
      "model_module_version": "1.5.0",
      "model_name": "DescriptionStyleModel",
      "state": {
       "description_width": ""
      }
     },
     "d8495379fe214683adc7e93f6e7e76fe": {
      "model_module": "@jupyter-widgets/base",
      "model_module_version": "1.2.0",
      "model_name": "LayoutModel",
      "state": {}
     },
     "eafa20fc0eb6452db33558e5ad53e576": {
      "model_module": "@jupyter-widgets/base",
      "model_module_version": "1.2.0",
      "model_name": "LayoutModel",
      "state": {
       "width": "70px"
      }
     },
     "ffe5f981baea4949856a2d775950e9ad": {
      "model_module": "@jupyter-widgets/base",
      "model_module_version": "1.2.0",
      "model_name": "LayoutModel",
      "state": {
       "grid_area": "right",
       "padding": "0px 0px 0px 0px",
       "width": "70px"
      }
     }
    },
    "version_major": 2,
    "version_minor": 0
   }
  }
 },
 "nbformat": 4,
 "nbformat_minor": 5
}
