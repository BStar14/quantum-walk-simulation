{
 "cells": [
  {
   "cell_type": "code",
   "execution_count": 1,
   "id": "1502ca5e-bb3b-427b-b5f7-d39367a78fc2",
   "metadata": {},
   "outputs": [
    {
     "name": "stdout",
     "output_type": "stream",
     "text": [
      "[<IBMBackend('ibmq_qasm_simulator')>, <IBMBackend('ibmq_belem')>, <IBMBackend('simulator_mps')>, <IBMBackend('simulator_statevector')>, <IBMBackend('ibmq_manila')>, <IBMBackend('ibm_nairobi')>, <IBMBackend('ibmq_lima')>, <IBMBackend('ibm_oslo')>, <IBMBackend('ibmq_jakarta')>, <IBMBackend('ibmq_quito')>, <IBMBackend('simulator_stabilizer')>, <IBMBackend('ibm_lagos')>, <IBMBackend('ibm_perth')>, <IBMBackend('simulator_extended_stabilizer')>]\n"
     ]
    }
   ],
   "source": [
    "# Import Qiskit and IonQ\n",
    "from qiskit_ibm_runtime import QiskitRuntimeService\n",
    "from qiskit_ibm_provider import IBMProvider\n",
    "# from qiskit_ionq import IonQProvider\n",
    "\n",
    "# Save the IBM account if needed\n",
    "# token = 'token'\n",
    "# QiskitRuntimeService.save_account(channel=\"ibm_quantum\", token=token, overwrite=True)\n",
    "\n",
    "# Load IBM and IonQ accounts\n",
    "service = QiskitRuntimeService(channel=\"ibm_quantum\", instance=None)\n",
    "provider = IBMProvider()\n",
    "# ionq_provider = IonQProvider()\n",
    "\n",
    "# Display available backends\n",
    "print(provider.backends())"
   ]
  },
  {
   "cell_type": "code",
   "execution_count": 2,
   "id": "16b23616",
   "metadata": {},
   "outputs": [],
   "source": [
    "# Set backend like this\n",
    "backend = \"ibmq_qasm_simulator\""
   ]
  },
  {
   "cell_type": "code",
   "execution_count": 3,
   "id": "03aa7c3b",
   "metadata": {},
   "outputs": [],
   "source": [
    "# Import packages\n",
    "import numpy as np\n",
    "import matplotlib.pyplot as plt\n",
    "from qiskit_ibm_runtime import Session, Sampler, Options\n",
    "from qw.staggered_dsg_circuit_3t_bin import *"
   ]
  },
  {
   "cell_type": "code",
   "execution_count": 4,
   "id": "577f3053",
   "metadata": {},
   "outputs": [],
   "source": [
    "# Overall setting\n",
    "shots = 4000\n",
    "size_degree = 2\n",
    "displacement_dict = {\"0000\":0, \"0001\":1, \"0010\":1, \n",
    "                     \"0011\":9, \"0100\":7, \"0101\":4,\n",
    "                     \"0110\":9, \"0111\":4, \"1000\":7}"
   ]
  },
  {
   "cell_type": "code",
   "execution_count": 5,
   "id": "471d0368",
   "metadata": {},
   "outputs": [],
   "source": [
    "# Simulation setting\n",
    "steps = 300\n",
    "dt = 0.01\n",
    "layers = 10\n",
    "t = np.linspace(dt, steps*dt, steps)\n",
    "name = f'dsg_3tqw_bin_o{size_degree:d}_{steps*dt:.1f}s_{layers:d}ly'"
   ]
  },
  {
   "cell_type": "code",
   "execution_count": 6,
   "id": "f7bf063b",
   "metadata": {},
   "outputs": [
    {
     "name": "stdout",
     "output_type": "stream",
     "text": [
      ">>> Job ID: cgkd3m1rv8r4b3niuchg\n",
      ">>> Job Status: JobStatus.DONE\n"
     ]
    }
   ],
   "source": [
    "# Build a circuit list.\n",
    "circuits = []\n",
    "for i in range(steps):\n",
    "    circuits.append(staggered_dsg_circuit_3t_bin(size_degree, t[i], layers, model='XY'))\n",
    "# circs[20].draw('mpl')\n",
    "\n",
    "# Run QASM simulator\n",
    "backend = \"ibmq_qasm_simulator\"\n",
    "options = Options(simulator={\"seed_simulator\": 42}, resilience_level=0)\n",
    "with Session(service=service, backend=backend):\n",
    "    sampler = Sampler(options=options)\n",
    "    job = sampler.run(\n",
    "        circuits=circuits,\n",
    "        shots=shots\n",
    "    )\n",
    "    results = job.result()\n",
    "\n",
    "# Print job status\n",
    "print(f\">>> Job ID: {job.job_id()}\")\n",
    "print(f\">>> Job Status: {job.status()}\")"
   ]
  },
  {
   "cell_type": "code",
   "execution_count": 7,
   "id": "35fdc8f9",
   "metadata": {},
   "outputs": [],
   "source": [
    "# Extract (quasi-)probability distribution\n",
    "qd_list = list()\n",
    "for i in range(steps):\n",
    "    qd_list.append(results.quasi_dists[i].binary_probabilities())\n",
    "\n",
    "# Compute mean square displacement\n",
    "# Count valid results only\n",
    "msd_list = list()\n",
    "for i in range(steps):\n",
    "    valid_prob = 0\n",
    "    for bit, prob in qd_list[i].items():\n",
    "        valid_prob += (displacement_dict.get(bit, -1) > -1)*prob\n",
    "    msd_temp = 0.\n",
    "    for bit, prob in qd_list[i].items():\n",
    "        msd_temp += displacement_dict.get(bit, 0)*prob/valid_prob\n",
    "    msd_list.append(msd_temp)"
   ]
  },
  {
   "cell_type": "code",
   "execution_count": 8,
   "id": "64869eb6-4c09-4a0a-bcb3-83cd88823237",
   "metadata": {},
   "outputs": [
    {
     "data": {
      "image/png": "[encoded data removed]",
      "text/plain": [
       "<Figure size 640x480 with 1 Axes>"
      ]
     },
     "metadata": {},
     "output_type": "display_data"
    }
   ],
   "source": [
    "# Plot t - MSD\n",
    "plt.plot(t, msd_list)\n",
    "plt.show()"
   ]
  },
  {
   "cell_type": "code",
   "execution_count": 10,
   "id": "0f4474cf",
   "metadata": {},
   "outputs": [],
   "source": [
    "# Save qd_list\n",
    "import pickle\n",
    "\n",
    "with open(f'data/simulator/{backend}_{name}_qd_list.pkl','wb') as file :\n",
    "    pickle.dump(qd_list, file)"
   ]
  },
  {
   "cell_type": "code",
   "execution_count": 11,
   "id": "e6a1e04b-0113-4ce6-84de-bea6e1aff75f",
   "metadata": {},
   "outputs": [],
   "source": [
    "# Save msd_list\n",
    "import csv\n",
    "\n",
    "with open(f'data/simulator/{backend}_{name}_msd_list.csv','w') as file :\n",
    "    write = csv.writer(file)\n",
    "    write.writerow(msd_list)"
   ]
  },
  {
   "cell_type": "code",
   "execution_count": null,
   "id": "59f1319a",
   "metadata": {},
   "outputs": [],
   "source": []
  }
 ],
 "metadata": {
  "kernelspec": {
   "display_name": "Python 3 (ipykernel)",
   "language": "python",
   "name": "python3"
  },
  "language_info": {
   "codemirror_mode": {
    "name": "ipython",
    "version": 3
   },
   "file_extension": ".py",
   "mimetype": "text/x-python",
   "name": "python",
   "nbconvert_exporter": "python",
   "pygments_lexer": "ipython3",
   "version": "3.10.10"
  },
  "widgets": {
   "application/vnd.jupyter.widget-state+json": {
    "state": {
     "0dfd41db18c34b0dbea96134dc99a129": {
      "model_module": "@jupyter-widgets/controls",
      "model_module_version": "1.5.0",
      "model_name": "HTMLModel",
      "state": {
       "layout": "IPY_MODEL_139b9eec4e174fceb46ed8afa3cb821a",
       "style": "IPY_MODEL_a833a5ca611e4d60afffa8b4b2a8429d",
       "value": "<h5>Job ID</h5>"
      }
     },
     "139b9eec4e174fceb46ed8afa3cb821a": {
      "model_module": "@jupyter-widgets/base",
      "model_module_version": "1.2.0",
      "model_name": "LayoutModel",
      "state": {
       "width": "190px"
      }
     },
     "2cc1b7bb21004daf9fec45bb3ebe3552": {
      "model_module": "@jupyter-widgets/controls",
      "model_module_version": "1.5.0",
      "model_name": "GridBoxModel",
      "state": {
       "children": [
        "IPY_MODEL_e3711b265fcc424e866264897906d5b2"
       ],
       "layout": "IPY_MODEL_30ede94d863446f69dcea359339ac573"
      }
     },
     "30ede94d863446f69dcea359339ac573": {
      "model_module": "@jupyter-widgets/base",
      "model_module_version": "1.2.0",
      "model_name": "LayoutModel",
      "state": {
       "grid_template_areas": "\n                                       \". . . . right \"\n                                        ",
       "grid_template_columns": "20% 20% 20% 20% 20%",
       "width": "100%"
      }
     },
     "3894f25a369e48b29317ffbfbb67616e": {
      "model_module": "@jupyter-widgets/controls",
      "model_module_version": "1.5.0",
      "model_name": "ButtonStyleModel",
      "state": {}
     },
     "3cbd2c1893664291afdb53e52de3d175": {
      "model_module": "@jupyter-widgets/base",
      "model_module_version": "1.2.0",
      "model_name": "LayoutModel",
      "state": {
       "width": "70px"
      }
     },
     "4c4c5af9dcdf415d9e83a2428f5452a3": {
      "model_module": "@jupyter-widgets/controls",
      "model_module_version": "1.5.0",
      "model_name": "DescriptionStyleModel",
      "state": {
       "description_width": ""
      }
     },
     "593cb8c1f5b0435bb442c8a6f7b1e71c": {
      "model_module": "@jupyter-widgets/base",
      "model_module_version": "1.2.0",
      "model_name": "LayoutModel",
      "state": {
       "margin": "0px 0px 0px 37px",
       "width": "600px"
      }
     },
     "652c9dbf25964d018ad244d6af9f2e5e": {
      "model_module": "@jupyter-widgets/controls",
      "model_module_version": "1.5.0",
      "model_name": "HBoxModel",
      "state": {
       "children": [
        "IPY_MODEL_0dfd41db18c34b0dbea96134dc99a129",
        "IPY_MODEL_ac1e8bb0d9524b0490645f50a0c0df3b",
        "IPY_MODEL_6c46a29b3a0947049845c01c47685d54",
        "IPY_MODEL_cb5bb054fcd441f7b8b6e7099b0114b8",
        "IPY_MODEL_c055138df40544b48add64612af4bf59"
       ],
       "layout": "IPY_MODEL_593cb8c1f5b0435bb442c8a6f7b1e71c"
      }
     },
     "66c0674d121b4ce1886e59c463dcf979": {
      "model_module": "@jupyter-widgets/controls",
      "model_module_version": "1.5.0",
      "model_name": "DescriptionStyleModel",
      "state": {
       "description_width": ""
      }
     },
     "6c46a29b3a0947049845c01c47685d54": {
      "model_module": "@jupyter-widgets/controls",
      "model_module_version": "1.5.0",
      "model_name": "HTMLModel",
      "state": {
       "layout": "IPY_MODEL_bcb62b8d88e344cd928de58ea60e8cb2",
       "style": "IPY_MODEL_e5f2bd193b8149808685fbaf58c1480b",
       "value": "<h5>Status</h5>"
      }
     },
     "6eecf64ddab54b0eb4c51efea2b666ae": {
      "model_module": "@jupyter-widgets/base",
      "model_module_version": "1.2.0",
      "model_name": "LayoutModel",
      "state": {}
     },
     "72e6e461298944788b2145a916ee9320": {
      "model_module": "@jupyter-widgets/base",
      "model_module_version": "1.2.0",
      "model_name": "LayoutModel",
      "state": {
       "grid_area": "right",
       "padding": "0px 0px 0px 0px",
       "width": "70px"
      }
     },
     "8e2b5de678904f9eadf3a571dd60282b": {
      "model_module": "@jupyter-widgets/controls",
      "model_module_version": "1.5.0",
      "model_name": "HTMLModel",
      "state": {
       "layout": "IPY_MODEL_ba7c31ec6e964da8ab218fd8f372bf51",
       "style": "IPY_MODEL_66c0674d121b4ce1886e59c463dcf979",
       "value": "<p style='font-family: IBM Plex Sans, Arial, Helvetica, sans-serif; font-size: 20px; font-weight: medium;'>Circuit Properties</p>"
      }
     },
     "987062c0f0494941bec978aa947e1f02": {
      "model_module": "@jupyter-widgets/controls",
      "model_module_version": "1.5.0",
      "model_name": "DescriptionStyleModel",
      "state": {
       "description_width": ""
      }
     },
     "a833a5ca611e4d60afffa8b4b2a8429d": {
      "model_module": "@jupyter-widgets/controls",
      "model_module_version": "1.5.0",
      "model_name": "DescriptionStyleModel",
      "state": {
       "description_width": ""
      }
     },
     "ac1e8bb0d9524b0490645f50a0c0df3b": {
      "model_module": "@jupyter-widgets/controls",
      "model_module_version": "1.5.0",
      "model_name": "HTMLModel",
      "state": {
       "layout": "IPY_MODEL_f3b4a65d378940aaac640ba59835e057",
       "style": "IPY_MODEL_987062c0f0494941bec978aa947e1f02",
       "value": "<h5>Backend</h5>"
      }
     },
     "ba7c31ec6e964da8ab218fd8f372bf51": {
      "model_module": "@jupyter-widgets/base",
      "model_module_version": "1.2.0",
      "model_name": "LayoutModel",
      "state": {
       "margin": "0px 0px 10px 0px"
      }
     },
     "bcb62b8d88e344cd928de58ea60e8cb2": {
      "model_module": "@jupyter-widgets/base",
      "model_module_version": "1.2.0",
      "model_name": "LayoutModel",
      "state": {
       "width": "95px"
      }
     },
     "c055138df40544b48add64612af4bf59": {
      "model_module": "@jupyter-widgets/controls",
      "model_module_version": "1.5.0",
      "model_name": "HTMLModel",
      "state": {
       "layout": "IPY_MODEL_6eecf64ddab54b0eb4c51efea2b666ae",
       "style": "IPY_MODEL_4c4c5af9dcdf415d9e83a2428f5452a3",
       "value": "<h5>Message</h5>"
      }
     },
     "cb5bb054fcd441f7b8b6e7099b0114b8": {
      "model_module": "@jupyter-widgets/controls",
      "model_module_version": "1.5.0",
      "model_name": "HTMLModel",
      "state": {
       "layout": "IPY_MODEL_3cbd2c1893664291afdb53e52de3d175",
       "style": "IPY_MODEL_d60f22683e724985a74c52a800b9eacf",
       "value": "<h5>Queue</h5>"
      }
     },
     "d60f22683e724985a74c52a800b9eacf": {
      "model_module": "@jupyter-widgets/controls",
      "model_module_version": "1.5.0",
      "model_name": "DescriptionStyleModel",
      "state": {
       "description_width": ""
      }
     },
     "e3711b265fcc424e866264897906d5b2": {
      "model_module": "@jupyter-widgets/controls",
      "model_module_version": "1.5.0",
      "model_name": "ButtonModel",
      "state": {
       "button_style": "primary",
       "description": "Clear",
       "layout": "IPY_MODEL_72e6e461298944788b2145a916ee9320",
       "style": "IPY_MODEL_3894f25a369e48b29317ffbfbb67616e"
      }
     },
     "e5f2bd193b8149808685fbaf58c1480b": {
      "model_module": "@jupyter-widgets/controls",
      "model_module_version": "1.5.0",
      "model_name": "DescriptionStyleModel",
      "state": {
       "description_width": ""
      }
     },
     "f3b4a65d378940aaac640ba59835e057": {
      "model_module": "@jupyter-widgets/base",
      "model_module_version": "1.2.0",
      "model_name": "LayoutModel",
      "state": {
       "width": "145px"
      }
     }
    },
    "version_major": 2,
    "version_minor": 0
   }
  }
 },
 "nbformat": 4,
 "nbformat_minor": 5
}
