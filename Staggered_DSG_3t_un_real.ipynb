{
 "cells": [
  {
   "cell_type": "code",
   "execution_count": 1,
   "id": "1502ca5e-bb3b-427b-b5f7-d39367a78fc2",
   "metadata": {},
   "outputs": [
    {
     "name": "stdout",
     "output_type": "stream",
     "text": [
      "[<IBMBackend('ibmq_quito')>, <IBMBackend('ibm_nairobi')>, <IBMBackend('simulator_statevector')>, <IBMBackend('simulator_stabilizer')>, <IBMBackend('ibm_lagos')>, <IBMBackend('simulator_mps')>, <IBMBackend('ibmq_manila')>, <IBMBackend('ibm_perth')>, <IBMBackend('ibmq_jakarta')>, <IBMBackend('ibmq_qasm_simulator')>, <IBMBackend('ibmq_lima')>, <IBMBackend('ibmq_belem')>, <IBMBackend('simulator_extended_stabilizer')>, <IBMBackend('ibm_oslo')>]\n"
     ]
    }
   ],
   "source": [
    "# Import Qiskit and IonQ\n",
    "from qiskit_ibm_runtime import QiskitRuntimeService\n",
    "from qiskit_ibm_provider import IBMProvider\n",
    "# from qiskit_ionq import IonQProvider\n",
    "\n",
    "# Save the IBM account if needed\n",
    "# token = 'token'\n",
    "# QiskitRuntimeService.save_account(channel=\"ibm_quantum\", token=token, overwrite=True)\n",
    "\n",
    "# Load IBM and IonQ accounts\n",
    "service = QiskitRuntimeService(channel=\"ibm_quantum\", instance=None)\n",
    "provider = IBMProvider()\n",
    "# ionq_provider = IonQProvider()\n",
    "\n",
    "# Display available backends\n",
    "print(provider.backends())"
   ]
  },
  {
   "cell_type": "code",
   "execution_count": 2,
   "id": "5c0a5608",
   "metadata": {},
   "outputs": [],
   "source": [
    "# Set backend like this\n",
    "backend = \"ibmq_qasm_simulator\""
   ]
  },
  {
   "cell_type": "code",
   "execution_count": 3,
   "id": "79be2937",
   "metadata": {},
   "outputs": [],
   "source": [
    "# Import packages\n",
    "import numpy as np\n",
    "import matplotlib.pyplot as plt\n",
    "from qiskit_ibm_runtime import Session, Sampler, Options\n",
    "from qw.staggered_dsg_circuit_3t_un import *"
   ]
  },
  {
   "cell_type": "code",
   "execution_count": 4,
   "id": "8cddc8af",
   "metadata": {},
   "outputs": [],
   "source": [
    "# Overall setting\n",
    "shots = 4000\n",
    "size_degree = 2\n",
    "displacement_dict = {\"000000001\":0, \"000000010\":1, \"000000100\":1, \n",
    "                     \"000001000\":9, \"000010000\":7, \"000100000\":4,\n",
    "                     \"001000000\":9, \"010000000\":4, \"100000000\":7}"
   ]
  },
  {
   "cell_type": "code",
   "execution_count": 5,
   "id": "24248ece",
   "metadata": {},
   "outputs": [],
   "source": [
    "# Simulation setting\n",
    "steps = 300\n",
    "dt = 0.01\n",
    "layers = 16\n",
    "t = np.linspace(dt, steps*dt, steps)\n",
    "name = f'dsg_3tqw_un_o{size_degree:d}_XY_{steps*dt:.1f}s_{layers:d}ly'"
   ]
  },
  {
   "cell_type": "code",
   "execution_count": 6,
   "id": "1d0e71dc",
   "metadata": {},
   "outputs": [
    {
     "name": "stdout",
     "output_type": "stream",
     "text": [
      ">>> Job ID: cgkd0iump35sb7kougp0\n",
      ">>> Job Status: JobStatus.DONE\n"
     ]
    }
   ],
   "source": [
    "# Build a circuit list.\n",
    "circuits = []\n",
    "for i in range(steps):\n",
    "    circuits.append(staggered_dsg_circuit_3t_un(size_degree, t[i], layers, model='XY'))\n",
    "# circs[20].draw('mpl')\n",
    "\n",
    "# Run QASM simulator\n",
    "backend = \"ibmq_qasm_simulator\"\n",
    "options = Options(simulator={\"seed_simulator\": 42}, resilience_level=0)\n",
    "with Session(service=service, backend=backend):\n",
    "    sampler = Sampler(options=options)\n",
    "    job = sampler.run(\n",
    "        circuits=circuits,\n",
    "        shots=shots\n",
    "    )\n",
    "    results = job.result()\n",
    "\n",
    "# Print job status\n",
    "print(f\">>> Job ID: {job.job_id()}\")\n",
    "print(f\">>> Job Status: {job.status()}\")"
   ]
  },
  {
   "cell_type": "code",
   "execution_count": 7,
   "id": "9957d8b3",
   "metadata": {},
   "outputs": [],
   "source": [
    "# Extract (quasi-)probability distribution\n",
    "qd_list = list()\n",
    "for i in range(steps):\n",
    "    qd_list.append(results.quasi_dists[i].binary_probabilities())\n",
    "\n",
    "# Compute mean square displacement\n",
    "msd_list = list()\n",
    "for i in range(steps):\n",
    "    msd_temp = 0.\n",
    "    for bit, prob in qd_list[i].items():\n",
    "        msd_temp += displacement_dict.get(bit)*prob\n",
    "    msd_list.append(msd_temp)"
   ]
  },
  {
   "cell_type": "code",
   "execution_count": 8,
   "id": "4cc7a662",
   "metadata": {},
   "outputs": [
    {
     "data": {
      "image/png": "[encoded data removed]",
      "text/plain": [
       "<Figure size 640x480 with 1 Axes>"
      ]
     },
     "metadata": {},
     "output_type": "display_data"
    }
   ],
   "source": [
    "# Plot t - MSD\n",
    "plt.plot(t, msd_list)\n",
    "plt.show()"
   ]
  },
  {
   "cell_type": "code",
   "execution_count": 10,
   "id": "24774a15",
   "metadata": {},
   "outputs": [],
   "source": [
    "# Save qd_list\n",
    "import pickle\n",
    "\n",
    "with open(f'data/simulator/{backend}_{name}_qd_list.pkl','wb') as file :\n",
    "    pickle.dump(qd_list, file)"
   ]
  },
  {
   "cell_type": "code",
   "execution_count": 11,
   "id": "7928fd6f",
   "metadata": {},
   "outputs": [],
   "source": [
    "# Save msd_list\n",
    "import csv\n",
    "\n",
    "with open(f'data/simulator/{backend}_{name}_msd_list.csv','w') as file :\n",
    "    write = csv.writer(file)\n",
    "    write.writerow(msd_list)"
   ]
  },
  {
   "cell_type": "code",
   "execution_count": 6,
   "id": "59bd480e",
   "metadata": {},
   "outputs": [],
   "source": [
    "# Experiment setting\n",
    "steps = 300\n",
    "dt = 0.01\n",
    "layers = 2\n",
    "t = np.linspace(dt, steps*dt, steps)\n",
    "name = f'dsg_3tqw_un_o{size_degree:d}_{steps*dt:.1f}s_{layers:d}ly'"
   ]
  },
  {
   "cell_type": "code",
   "execution_count": 7,
   "id": "138d8b87",
   "metadata": {},
   "outputs": [],
   "source": [
    "# Build a circuit list.\n",
    "circuits = []\n",
    "for i in range(steps):\n",
    "    circuits.append(staggered_dsg_circuit_3t_un(size_degree, t[i], layers))\n",
    "\n",
    "# Run QPU\n",
    "backend = \"ibm_hanoi\"\n",
    "options = Options(resilience_level=1)\n",
    "with Session(service=service, backend=backend):\n",
    "    sampler = Sampler(options=options)\n",
    "    job = sampler.run(\n",
    "        circuits=circuits,\n",
    "        shots=shots\n",
    "    )\n",
    "    results = job.result()\n",
    "\n",
    "# Print job status\n",
    "print(f\">>> Job ID: {job.job_id()}\")\n",
    "print(f\">>> Job Status: {job.status()}\")"
   ]
  },
  {
   "cell_type": "code",
   "execution_count": 9,
   "id": "c91877e2",
   "metadata": {},
   "outputs": [],
   "source": [
    "# Extract (quasi-)probability distribution\n",
    "qd_list = list()\n",
    "for i in range(steps):\n",
    "    qd_list.append(results.quasi_dists[i].binary_probabilities())\n",
    "\n",
    "# Compute mean square displacement\n",
    "# Count valid results only\n",
    "msd_list = list()\n",
    "for i in range(steps):\n",
    "    valid_prob = 0\n",
    "    for bit, prob in qd_list[i].items():\n",
    "        valid_prob += (displacement_dict.get(bit, -1) > -1)*prob\n",
    "    msd_temp = 0.\n",
    "    for bit, prob in qd_list[i].items():\n",
    "        msd_temp += displacement_dict.get(bit, 0)*prob/valid_prob\n",
    "    msd_list.append(msd_temp)"
   ]
  },
  {
   "cell_type": "code",
   "execution_count": 10,
   "id": "a266fc9a",
   "metadata": {
    "scrolled": true
   },
   "outputs": [
    {
     "data": {
      "text/plain": [
       "[<matplotlib.lines.Line2D at 0x1fda9fc0610>]"
      ]
     },
     "execution_count": 10,
     "metadata": {},
     "output_type": "execute_result"
    },
    {
     "data": {
      "image/png": "[encoded data removed]",
      "text/plain": [
       "<Figure size 432x288 with 1 Axes>"
      ]
     },
     "metadata": {
      "needs_background": "light"
     },
     "output_type": "display_data"
    }
   ],
   "source": [
    "# Plot t - MSD\n",
    "plt.plot(t, msd_list)\n",
    "plt.show()"
   ]
  },
  {
   "cell_type": "code",
   "execution_count": 11,
   "id": "610cb31f",
   "metadata": {},
   "outputs": [],
   "source": [
    "# Save qd_list\n",
    "import pickle\n",
    "\n",
    "with open(f'data/qpu/{backend}_{name}_qd_list.pkl','wb') as file :\n",
    "    pickle.dump(qd_list, file)"
   ]
  },
  {
   "cell_type": "code",
   "execution_count": null,
   "id": "cd50408c",
   "metadata": {},
   "outputs": [],
   "source": [
    "# Save msd_list\n",
    "import csv\n",
    "\n",
    "with open(f'data/qpu/{backend}_{name}_msd_list.csv','w') as file :\n",
    "    write = csv.writer(file)\n",
    "    write.writerow(msd_list)"
   ]
  },
  {
   "cell_type": "code",
   "execution_count": null,
   "id": "5bcd5701",
   "metadata": {},
   "outputs": [],
   "source": [
    "# IonQ simulation (outdated)\n",
    "# sys = 'ionq_simulator'\n",
    "# backend = ionq_provider.get_backend(sys)"
   ]
  },
  {
   "cell_type": "code",
   "execution_count": null,
   "id": "03501754",
   "metadata": {},
   "outputs": [],
   "source": [
    "# steps = 300\n",
    "# dt = 0.01\n",
    "# layers = 2\n",
    "# t = np.linspace(dt, steps*dt, steps)\n",
    "# name = f'dsg_3tqw_un_o{size_degree:d}_{steps*dt:.1f}s_{layers:d}ly'"
   ]
  },
  {
   "cell_type": "code",
   "execution_count": 25,
   "id": "8b29b2ac",
   "metadata": {},
   "outputs": [
    {
     "name": "stdout",
     "output_type": "stream",
     "text": [
      "in prograss... 0%\n",
      "in prograss... 10%\n",
      "in prograss... 20%\n",
      "in prograss... 30%\n",
      "in prograss... 40%\n",
      "in prograss... 50%\n",
      "in prograss... 60%\n",
      "in prograss... 70%\n",
      "in prograss... 80%\n",
      "in prograss... 90%\n",
      "complete!      100%\n"
     ]
    }
   ],
   "source": [
    "# counts_list = list()\n",
    "\n",
    "# for i in range(steps):\n",
    "#     circ = staggered_dsg_circuit_3t_un(size_degree, t[i], layers)\n",
    "#     transpiled_circ = transpile(circ, backend, optimization_level=2)\n",
    "#     job = backend.run(transpiled_circ, shots=shots)\n",
    "#     results = job.result()\n",
    "#     counts_list.append(results.get_counts())\n",
    "#     if i%10 == 0:\n",
    "#         print(f'in prograss... {i}%')\n",
    "\n",
    "# print(f'complete!      100%')"
   ]
  },
  {
   "cell_type": "code",
   "execution_count": 18,
   "id": "cfa3be5a",
   "metadata": {},
   "outputs": [],
   "source": [
    "# msd_temp = 0.\n",
    "# msd_list = list()\n",
    "\n",
    "# for i in range(steps):\n",
    "#     msd_temp = 0.\n",
    "#     for bits, number in counts_list[i].items():\n",
    "#         msd_temp += displacement_dict.get(bits)*number/shots\n",
    "#     msd_list.append(msd_temp)"
   ]
  },
  {
   "cell_type": "code",
   "execution_count": 26,
   "id": "e615fdda",
   "metadata": {},
   "outputs": [
    {
     "data": {
      "text/plain": [
       "[<matplotlib.lines.Line2D at 0x1bedf3476d0>]"
      ]
     },
     "execution_count": 26,
     "metadata": {},
     "output_type": "execute_result"
    },
    {
     "data": {
      "image/png": "[encoded data removed]",
      "text/plain": [
       "<Figure size 432x288 with 1 Axes>"
      ]
     },
     "metadata": {
      "needs_background": "light"
     },
     "output_type": "display_data"
    }
   ],
   "source": [
    "# plt.plot(t, msd_list)"
   ]
  },
  {
   "cell_type": "code",
   "execution_count": 27,
   "id": "5f9a806b",
   "metadata": {},
   "outputs": [],
   "source": [
    "# import pickle\n",
    "\n",
    "# with open(f'data/simulator/{sys}_{name}_counts_list.pkl','wb') as file :\n",
    "#     pickle.dump(counts_list, file)"
   ]
  },
  {
   "cell_type": "code",
   "execution_count": 28,
   "id": "12133066",
   "metadata": {},
   "outputs": [],
   "source": [
    "# import csv\n",
    "\n",
    "# with open(f'data/simulator/{sys}_{name}_msd_list.csv','w') as file :\n",
    "#     write = csv.writer(file)\n",
    "#     write.writerow(msd_list)"
   ]
  },
  {
   "cell_type": "code",
   "execution_count": null,
   "id": "59f1319a",
   "metadata": {},
   "outputs": [],
   "source": []
  }
 ],
 "metadata": {
  "kernelspec": {
   "display_name": "Python 3 (ipykernel)",
   "language": "python",
   "name": "python3"
  },
  "language_info": {
   "codemirror_mode": {
    "name": "ipython",
    "version": 3
   },
   "file_extension": ".py",
   "mimetype": "text/x-python",
   "name": "python",
   "nbconvert_exporter": "python",
   "pygments_lexer": "ipython3",
   "version": "3.10.10"
  },
  "widgets": {
   "application/vnd.jupyter.widget-state+json": {
    "state": {
     "0dfd41db18c34b0dbea96134dc99a129": {
      "model_module": "@jupyter-widgets/controls",
      "model_module_version": "1.5.0",
      "model_name": "HTMLModel",
      "state": {
       "layout": "IPY_MODEL_139b9eec4e174fceb46ed8afa3cb821a",
       "style": "IPY_MODEL_a833a5ca611e4d60afffa8b4b2a8429d",
       "value": "<h5>Job ID</h5>"
      }
     },
     "139b9eec4e174fceb46ed8afa3cb821a": {
      "model_module": "@jupyter-widgets/base",
      "model_module_version": "1.2.0",
      "model_name": "LayoutModel",
      "state": {
       "width": "190px"
      }
     },
     "2cc1b7bb21004daf9fec45bb3ebe3552": {
      "model_module": "@jupyter-widgets/controls",
      "model_module_version": "1.5.0",
      "model_name": "GridBoxModel",
      "state": {
       "children": [
        "IPY_MODEL_e3711b265fcc424e866264897906d5b2"
       ],
       "layout": "IPY_MODEL_30ede94d863446f69dcea359339ac573"
      }
     },
     "30ede94d863446f69dcea359339ac573": {
      "model_module": "@jupyter-widgets/base",
      "model_module_version": "1.2.0",
      "model_name": "LayoutModel",
      "state": {
       "grid_template_areas": "\n                                       \". . . . right \"\n                                        ",
       "grid_template_columns": "20% 20% 20% 20% 20%",
       "width": "100%"
      }
     },
     "3894f25a369e48b29317ffbfbb67616e": {
      "model_module": "@jupyter-widgets/controls",
      "model_module_version": "1.5.0",
      "model_name": "ButtonStyleModel",
      "state": {}
     },
     "3cbd2c1893664291afdb53e52de3d175": {
      "model_module": "@jupyter-widgets/base",
      "model_module_version": "1.2.0",
      "model_name": "LayoutModel",
      "state": {
       "width": "70px"
      }
     },
     "4c4c5af9dcdf415d9e83a2428f5452a3": {
      "model_module": "@jupyter-widgets/controls",
      "model_module_version": "1.5.0",
      "model_name": "DescriptionStyleModel",
      "state": {
       "description_width": ""
      }
     },
     "593cb8c1f5b0435bb442c8a6f7b1e71c": {
      "model_module": "@jupyter-widgets/base",
      "model_module_version": "1.2.0",
      "model_name": "LayoutModel",
      "state": {
       "margin": "0px 0px 0px 37px",
       "width": "600px"
      }
     },
     "652c9dbf25964d018ad244d6af9f2e5e": {
      "model_module": "@jupyter-widgets/controls",
      "model_module_version": "1.5.0",
      "model_name": "HBoxModel",
      "state": {
       "children": [
        "IPY_MODEL_0dfd41db18c34b0dbea96134dc99a129",
        "IPY_MODEL_ac1e8bb0d9524b0490645f50a0c0df3b",
        "IPY_MODEL_6c46a29b3a0947049845c01c47685d54",
        "IPY_MODEL_cb5bb054fcd441f7b8b6e7099b0114b8",
        "IPY_MODEL_c055138df40544b48add64612af4bf59"
       ],
       "layout": "IPY_MODEL_593cb8c1f5b0435bb442c8a6f7b1e71c"
      }
     },
     "66c0674d121b4ce1886e59c463dcf979": {
      "model_module": "@jupyter-widgets/controls",
      "model_module_version": "1.5.0",
      "model_name": "DescriptionStyleModel",
      "state": {
       "description_width": ""
      }
     },
     "6c46a29b3a0947049845c01c47685d54": {
      "model_module": "@jupyter-widgets/controls",
      "model_module_version": "1.5.0",
      "model_name": "HTMLModel",
      "state": {
       "layout": "IPY_MODEL_bcb62b8d88e344cd928de58ea60e8cb2",
       "style": "IPY_MODEL_e5f2bd193b8149808685fbaf58c1480b",
       "value": "<h5>Status</h5>"
      }
     },
     "6eecf64ddab54b0eb4c51efea2b666ae": {
      "model_module": "@jupyter-widgets/base",
      "model_module_version": "1.2.0",
      "model_name": "LayoutModel",
      "state": {}
     },
     "72e6e461298944788b2145a916ee9320": {
      "model_module": "@jupyter-widgets/base",
      "model_module_version": "1.2.0",
      "model_name": "LayoutModel",
      "state": {
       "grid_area": "right",
       "padding": "0px 0px 0px 0px",
       "width": "70px"
      }
     },
     "8e2b5de678904f9eadf3a571dd60282b": {
      "model_module": "@jupyter-widgets/controls",
      "model_module_version": "1.5.0",
      "model_name": "HTMLModel",
      "state": {
       "layout": "IPY_MODEL_ba7c31ec6e964da8ab218fd8f372bf51",
       "style": "IPY_MODEL_66c0674d121b4ce1886e59c463dcf979",
       "value": "<p style='font-family: IBM Plex Sans, Arial, Helvetica, sans-serif; font-size: 20px; font-weight: medium;'>Circuit Properties</p>"
      }
     },
     "987062c0f0494941bec978aa947e1f02": {
      "model_module": "@jupyter-widgets/controls",
      "model_module_version": "1.5.0",
      "model_name": "DescriptionStyleModel",
      "state": {
       "description_width": ""
      }
     },
     "a833a5ca611e4d60afffa8b4b2a8429d": {
      "model_module": "@jupyter-widgets/controls",
      "model_module_version": "1.5.0",
      "model_name": "DescriptionStyleModel",
      "state": {
       "description_width": ""
      }
     },
     "ac1e8bb0d9524b0490645f50a0c0df3b": {
      "model_module": "@jupyter-widgets/controls",
      "model_module_version": "1.5.0",
      "model_name": "HTMLModel",
      "state": {
       "layout": "IPY_MODEL_f3b4a65d378940aaac640ba59835e057",
       "style": "IPY_MODEL_987062c0f0494941bec978aa947e1f02",
       "value": "<h5>Backend</h5>"
      }
     },
     "ba7c31ec6e964da8ab218fd8f372bf51": {
      "model_module": "@jupyter-widgets/base",
      "model_module_version": "1.2.0",
      "model_name": "LayoutModel",
      "state": {
       "margin": "0px 0px 10px 0px"
      }
     },
     "bcb62b8d88e344cd928de58ea60e8cb2": {
      "model_module": "@jupyter-widgets/base",
      "model_module_version": "1.2.0",
      "model_name": "LayoutModel",
      "state": {
       "width": "95px"
      }
     },
     "c055138df40544b48add64612af4bf59": {
      "model_module": "@jupyter-widgets/controls",
      "model_module_version": "1.5.0",
      "model_name": "HTMLModel",
      "state": {
       "layout": "IPY_MODEL_6eecf64ddab54b0eb4c51efea2b666ae",
       "style": "IPY_MODEL_4c4c5af9dcdf415d9e83a2428f5452a3",
       "value": "<h5>Message</h5>"
      }
     },
     "cb5bb054fcd441f7b8b6e7099b0114b8": {
      "model_module": "@jupyter-widgets/controls",
      "model_module_version": "1.5.0",
      "model_name": "HTMLModel",
      "state": {
       "layout": "IPY_MODEL_3cbd2c1893664291afdb53e52de3d175",
       "style": "IPY_MODEL_d60f22683e724985a74c52a800b9eacf",
       "value": "<h5>Queue</h5>"
      }
     },
     "d60f22683e724985a74c52a800b9eacf": {
      "model_module": "@jupyter-widgets/controls",
      "model_module_version": "1.5.0",
      "model_name": "DescriptionStyleModel",
      "state": {
       "description_width": ""
      }
     },
     "e3711b265fcc424e866264897906d5b2": {
      "model_module": "@jupyter-widgets/controls",
      "model_module_version": "1.5.0",
      "model_name": "ButtonModel",
      "state": {
       "button_style": "primary",
       "description": "Clear",
       "layout": "IPY_MODEL_72e6e461298944788b2145a916ee9320",
       "style": "IPY_MODEL_3894f25a369e48b29317ffbfbb67616e"
      }
     },
     "e5f2bd193b8149808685fbaf58c1480b": {
      "model_module": "@jupyter-widgets/controls",
      "model_module_version": "1.5.0",
      "model_name": "DescriptionStyleModel",
      "state": {
       "description_width": ""
      }
     },
     "f3b4a65d378940aaac640ba59835e057": {
      "model_module": "@jupyter-widgets/base",
      "model_module_version": "1.2.0",
      "model_name": "LayoutModel",
      "state": {
       "width": "145px"
      }
     }
    },
    "version_major": 2,
    "version_minor": 0
   }
  }
 },
 "nbformat": 4,
 "nbformat_minor": 5
}
